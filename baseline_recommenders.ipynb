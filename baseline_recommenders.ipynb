{
 "cells": [
  {
   "cell_type": "markdown",
   "metadata": {},
   "source": [
    "# Recommender System for Amazon's Books Section"
   ]
  },
  {
   "cell_type": "code",
   "execution_count": 1,
   "metadata": {},
   "outputs": [],
   "source": [
    "import os\n",
    "import numpy as np\n",
    "import pandas as pd\n",
    "from hashlib import sha1\n",
    "from sklearn.decomposition import TruncatedSVD\n",
    "from sklearn.model_selection import train_test_split"
   ]
  },
  {
   "cell_type": "code",
   "execution_count": 2,
   "metadata": {},
   "outputs": [
    {
     "data": {
      "text/html": [
       "<div>\n",
       "<style scoped>\n",
       "    .dataframe tbody tr th:only-of-type {\n",
       "        vertical-align: middle;\n",
       "    }\n",
       "\n",
       "    .dataframe tbody tr th {\n",
       "        vertical-align: top;\n",
       "    }\n",
       "\n",
       "    .dataframe thead th {\n",
       "        text-align: right;\n",
       "    }\n",
       "</style>\n",
       "<table border=\"1\" class=\"dataframe\">\n",
       "  <thead>\n",
       "    <tr style=\"text-align: right;\">\n",
       "      <th></th>\n",
       "      <th>marketplace</th>\n",
       "      <th>customer_id</th>\n",
       "      <th>review_id</th>\n",
       "      <th>product_id</th>\n",
       "      <th>product_parent</th>\n",
       "      <th>product_title</th>\n",
       "      <th>product_category</th>\n",
       "      <th>star_rating</th>\n",
       "      <th>helpful_votes</th>\n",
       "      <th>total_votes</th>\n",
       "      <th>vine</th>\n",
       "      <th>verified_purchase</th>\n",
       "      <th>review_headline</th>\n",
       "      <th>review_body</th>\n",
       "      <th>review_date</th>\n",
       "    </tr>\n",
       "  </thead>\n",
       "  <tbody>\n",
       "    <tr>\n",
       "      <th>0</th>\n",
       "      <td>US</td>\n",
       "      <td>50230169</td>\n",
       "      <td>R23MCAR8GSV3T0</td>\n",
       "      <td>0451526341</td>\n",
       "      <td>380925201</td>\n",
       "      <td>Animal farm: A Fairy Story</td>\n",
       "      <td>Books</td>\n",
       "      <td>4.0</td>\n",
       "      <td>2.0</td>\n",
       "      <td>2.0</td>\n",
       "      <td>N</td>\n",
       "      <td>N</td>\n",
       "      <td>Simple Yet Profound</td>\n",
       "      <td>A generation ago, the sight of the cover of Ge...</td>\n",
       "      <td>2005-10-14</td>\n",
       "    </tr>\n",
       "    <tr>\n",
       "      <th>1</th>\n",
       "      <td>US</td>\n",
       "      <td>50776149</td>\n",
       "      <td>RUCZYTA3MP0MR</td>\n",
       "      <td>038551428X</td>\n",
       "      <td>970964974</td>\n",
       "      <td>The Traveler (Fourth Realm Trilogy, Book 1)</td>\n",
       "      <td>Books</td>\n",
       "      <td>5.0</td>\n",
       "      <td>2.0</td>\n",
       "      <td>5.0</td>\n",
       "      <td>N</td>\n",
       "      <td>N</td>\n",
       "      <td>Great Marketing for a Pretty Good Book</td>\n",
       "      <td>The most interesting thing about this book is ...</td>\n",
       "      <td>2005-10-14</td>\n",
       "    </tr>\n",
       "    <tr>\n",
       "      <th>2</th>\n",
       "      <td>US</td>\n",
       "      <td>12598621</td>\n",
       "      <td>RCL2ARHKWH6RL</td>\n",
       "      <td>059035342X</td>\n",
       "      <td>667539744</td>\n",
       "      <td>Harry Potter and the Sorcerer's Stone</td>\n",
       "      <td>Books</td>\n",
       "      <td>5.0</td>\n",
       "      <td>2.0</td>\n",
       "      <td>2.0</td>\n",
       "      <td>N</td>\n",
       "      <td>N</td>\n",
       "      <td>I Think Part Of The Charm Is You Feel Like You...</td>\n",
       "      <td>Even though this is the shortest book in the H...</td>\n",
       "      <td>2005-10-14</td>\n",
       "    </tr>\n",
       "    <tr>\n",
       "      <th>3</th>\n",
       "      <td>US</td>\n",
       "      <td>49770667</td>\n",
       "      <td>R2P4B3STC980QP</td>\n",
       "      <td>1594480001</td>\n",
       "      <td>659516630</td>\n",
       "      <td>The Kite Runner</td>\n",
       "      <td>Books</td>\n",
       "      <td>5.0</td>\n",
       "      <td>4.0</td>\n",
       "      <td>4.0</td>\n",
       "      <td>N</td>\n",
       "      <td>N</td>\n",
       "      <td>Praiseworthy first novel</td>\n",
       "      <td>Well I thoroughly enjoyed this book. Although ...</td>\n",
       "      <td>2005-10-14</td>\n",
       "    </tr>\n",
       "    <tr>\n",
       "      <th>4</th>\n",
       "      <td>US</td>\n",
       "      <td>49828549</td>\n",
       "      <td>RM0CSYVWKHW5W</td>\n",
       "      <td>0671027360</td>\n",
       "      <td>141370518</td>\n",
       "      <td>Angels &amp; Demons</td>\n",
       "      <td>Books</td>\n",
       "      <td>1.0</td>\n",
       "      <td>31.0</td>\n",
       "      <td>39.0</td>\n",
       "      <td>N</td>\n",
       "      <td>N</td>\n",
       "      <td>Preposterous</td>\n",
       "      <td>Early in this novel, our hero finds out that a...</td>\n",
       "      <td>2005-10-14</td>\n",
       "    </tr>\n",
       "  </tbody>\n",
       "</table>\n",
       "</div>"
      ],
      "text/plain": [
       "  marketplace  customer_id       review_id  product_id  product_parent  \\\n",
       "0          US     50230169  R23MCAR8GSV3T0  0451526341       380925201   \n",
       "1          US     50776149   RUCZYTA3MP0MR  038551428X       970964974   \n",
       "2          US     12598621   RCL2ARHKWH6RL  059035342X       667539744   \n",
       "3          US     49770667  R2P4B3STC980QP  1594480001       659516630   \n",
       "4          US     49828549   RM0CSYVWKHW5W  0671027360       141370518   \n",
       "\n",
       "                                 product_title product_category  star_rating  \\\n",
       "0                   Animal farm: A Fairy Story            Books          4.0   \n",
       "1  The Traveler (Fourth Realm Trilogy, Book 1)            Books          5.0   \n",
       "2        Harry Potter and the Sorcerer's Stone            Books          5.0   \n",
       "3                              The Kite Runner            Books          5.0   \n",
       "4                              Angels & Demons            Books          1.0   \n",
       "\n",
       "   helpful_votes  total_votes vine verified_purchase  \\\n",
       "0            2.0          2.0    N                 N   \n",
       "1            2.0          5.0    N                 N   \n",
       "2            2.0          2.0    N                 N   \n",
       "3            4.0          4.0    N                 N   \n",
       "4           31.0         39.0    N                 N   \n",
       "\n",
       "                                     review_headline  \\\n",
       "0                                Simple Yet Profound   \n",
       "1             Great Marketing for a Pretty Good Book   \n",
       "2  I Think Part Of The Charm Is You Feel Like You...   \n",
       "3                           Praiseworthy first novel   \n",
       "4                                       Preposterous   \n",
       "\n",
       "                                         review_body review_date  \n",
       "0  A generation ago, the sight of the cover of Ge...  2005-10-14  \n",
       "1  The most interesting thing about this book is ...  2005-10-14  \n",
       "2  Even though this is the shortest book in the H...  2005-10-14  \n",
       "3  Well I thoroughly enjoyed this book. Although ...  2005-10-14  \n",
       "4  Early in this novel, our hero finds out that a...  2005-10-14  "
      ]
     },
     "execution_count": 2,
     "metadata": {},
     "output_type": "execute_result"
    }
   ],
   "source": [
    "data = pd.read_csv(\"data/amazon_reviews_subset_100.csv\")\n",
    "data.head()"
   ]
  },
  {
   "cell_type": "code",
   "execution_count": 3,
   "metadata": {},
   "outputs": [],
   "source": [
    "ratings = data[[\"customer_id\", \"product_id\", \"star_rating\"]]"
   ]
  },
  {
   "cell_type": "code",
   "execution_count": 4,
   "metadata": {},
   "outputs": [
    {
     "name": "stdout",
     "output_type": "stream",
     "text": [
      "Number of users (N) : 1230\n",
      "Number of Products (M) : 1672\n"
     ]
    }
   ],
   "source": [
    "user_key = \"customer_id\"\n",
    "item_key = \"product_id\"\n",
    "N = len(ratings[user_key].unique())\n",
    "M = len(ratings[item_key].unique())\n",
    "print(f\"Number of users (N) : {N}\")\n",
    "print(f\"Number of Products (M) : {M}\")\n"
   ]
  },
  {
   "cell_type": "code",
   "execution_count": 5,
   "metadata": {},
   "outputs": [
    {
     "name": "stdout",
     "output_type": "stream",
     "text": [
      "Non-nan ratings percentage: 1.19\n"
     ]
    }
   ],
   "source": [
    "non_nan_ratings_percentage = (ratings.shape[0] / (N * M)) * 100\n",
    "print(f\"Non-nan ratings percentage: {np.round(non_nan_ratings_percentage,3)}\")"
   ]
  },
  {
   "cell_type": "code",
   "execution_count": 6,
   "metadata": {},
   "outputs": [
    {
     "name": "stdout",
     "output_type": "stream",
     "text": [
      "Average number of ratings per user : 19.891056910569105\n",
      "Average number of ratings per product: 14.632775119617225\n"
     ]
    }
   ],
   "source": [
    "avg_nratings_per_user = ratings.groupby(user_key).size().mean()\n",
    "avg_nratings_per_product = ratings.groupby(item_key).size().mean()\n",
    "\n",
    "print(f\"Average number of ratings per user : {avg_nratings_per_user}\")\n",
    "print(f\"Average number of ratings per product: {avg_nratings_per_product}\")"
   ]
  },
  {
   "cell_type": "code",
   "execution_count": 7,
   "metadata": {},
   "outputs": [
    {
     "data": {
      "text/plain": [
       "((19572, 3), (4894, 3))"
      ]
     },
     "execution_count": 7,
     "metadata": {},
     "output_type": "execute_result"
    }
   ],
   "source": [
    "X = ratings.copy()\n",
    "y = ratings[user_key]\n",
    "X_train, X_valid, y_train, y_valid = train_test_split(\n",
    "X, y, test_size=0.2, random_state=123\n",
    ")\n",
    "X_train.shape, X_valid.shape"
   ]
  },
  {
   "cell_type": "code",
   "execution_count": 8,
   "metadata": {},
   "outputs": [
    {
     "data": {
      "text/plain": [
       "4555     52947077\n",
       "8687     33382577\n",
       "7789     48135836\n",
       "23583    50780673\n",
       "1650     50732546\n",
       "           ...   \n",
       "15377    51801617\n",
       "21602    50442542\n",
       "17730    50452306\n",
       "15725    49985562\n",
       "19966    51823791\n",
       "Name: customer_id, Length: 19572, dtype: int64"
      ]
     },
     "execution_count": 8,
     "metadata": {},
     "output_type": "execute_result"
    }
   ],
   "source": [
    "y_train"
   ]
  },
  {
   "cell_type": "code",
   "execution_count": 9,
   "metadata": {},
   "outputs": [],
   "source": [
    "user_mapper = dict(zip(np.unique(ratings[user_key]), list(range(N))))\n",
    "item_mapper = dict(zip(np.unique(ratings[item_key]), list(range(M))))\n",
    "user_inverse_mapper = dict(zip(list(range(N)), np.unique(ratings[user_key])))\n",
    "item_inverse_mapper = dict(zip(list(range(M)), np.unique(ratings[item_key])))\n",
    "\n",
    "def create_Y_from_ratings(\n",
    "    data, N, M, user_mapper, item_mapper, user_key=\"customer_id\", item_key=\"product_id\"\n",
    "):  # Function to create a dense utility matrix\n",
    "    Y = np.zeros((N, M))\n",
    "    Y.fill(np.nan)\n",
    "    for index, val in data.iterrows():\n",
    "        n = user_mapper[val[user_key]]\n",
    "        m = item_mapper[val[item_key]]\n",
    "        Y[n, m] = val[\"star_rating\"]\n",
    "\n",
    "    return Y\n",
    "\n",
    "\n",
    "train_mat = create_Y_from_ratings(X_train, N, M, user_mapper, item_mapper)\n",
    "valid_mat = create_Y_from_ratings(X_valid, N, M, user_mapper, item_mapper)"
   ]
  },
  {
   "cell_type": "code",
   "execution_count": 10,
   "metadata": {},
   "outputs": [
    {
     "data": {
      "text/plain": [
       "array([[nan, nan, nan, ..., nan, nan, nan],\n",
       "       [nan, nan, nan, ..., nan, nan, nan],\n",
       "       [nan, nan, nan, ..., nan, nan, nan],\n",
       "       ...,\n",
       "       [nan, nan, nan, ..., nan, nan, nan],\n",
       "       [nan, nan, nan, ..., nan, nan, nan],\n",
       "       [nan, nan, nan, ..., nan, nan, nan]])"
      ]
     },
     "execution_count": 10,
     "metadata": {},
     "output_type": "execute_result"
    }
   ],
   "source": [
    "valid_mat"
   ]
  },
  {
   "cell_type": "code",
   "execution_count": 11,
   "metadata": {},
   "outputs": [
    {
     "name": "stdout",
     "output_type": "stream",
     "text": [
      "Number of non-nan elements in train_mat: 19085\n",
      "Number of non-nan elements in valid_mat: 4855\n"
     ]
    }
   ],
   "source": [
    "nnn_train_mat = np.count_nonzero(~np.isnan(train_mat))\n",
    "nnn_valid_mat = np.count_nonzero(~np.isnan(valid_mat))\n",
    "\n",
    "print(f\"Number of non-nan elements in train_mat: {nnn_train_mat}\")\n",
    "print(f\"Number of non-nan elements in valid_mat: {nnn_valid_mat}\")"
   ]
  },
  {
   "cell_type": "code",
   "execution_count": 12,
   "metadata": {},
   "outputs": [],
   "source": [
    "def error(Y1, Y2):\n",
    "    \"\"\"\n",
    "    Given two matrices of the same shape, \n",
    "    returns the root mean squared error (RMSE).\n",
    "    \"\"\"\n",
    "    return np.sqrt(np.nanmean((Y1 - Y2) ** 2))\n",
    "\n",
    "\n",
    "def evaluate(pred_Y, train_mat, valid_mat, model_name=\"Global average\"):\n",
    "    \"\"\"\n",
    "    Given predicted utility matrix and train and validation utility matrices \n",
    "    print train and validation RMSEs.\n",
    "    \"\"\"\n",
    "    print(\"%s train RMSE: %0.2f\" % (model_name, error(pred_Y, train_mat)))\n",
    "    print(\"%s valid RMSE: %0.2f\" % (model_name, error(pred_Y, valid_mat)))"
   ]
  },
  {
   "cell_type": "markdown",
   "metadata": {},
   "source": [
    "## Baseline Approaches"
   ]
  },
  {
   "cell_type": "code",
   "execution_count": 13,
   "metadata": {},
   "outputs": [
    {
     "name": "stdout",
     "output_type": "stream",
     "text": [
      "Global average train RMSE: 1.07\n",
      "Global average valid RMSE: 1.06\n"
     ]
    }
   ],
   "source": [
    "# Global Average Method\n",
    "\n",
    "avg = np.nanmean(train_mat)\n",
    "pred_g = np.zeros(train_mat.shape) + avg\n",
    "evaluate(pred_g, train_mat, valid_mat, model_name=\"Global average\")"
   ]
  },
  {
   "cell_type": "code",
   "execution_count": 14,
   "metadata": {},
   "outputs": [
    {
     "name": "stdout",
     "output_type": "stream",
     "text": [
      "Per-user average train RMSE: 0.95\n",
      "Per-user average valid RMSE: 1.01\n"
     ]
    },
    {
     "name": "stderr",
     "output_type": "stream",
     "text": [
      "/var/folders/bb/rx_p8sh57r19xkmxl14ylgch0000gn/T/ipykernel_92764/1879627093.py:6: RuntimeWarning: Mean of empty slice\n",
      "  pred_n[i, :] = np.nanmean(train_mat[i, :])\n"
     ]
    }
   ],
   "source": [
    "# Per User Average\n",
    "\n",
    "pred_n = np.zeros(train_mat.shape)\n",
    "avg_rate = []\n",
    "for i in range (train_mat.shape[0]):\n",
    "    pred_n[i, :] = np.nanmean(train_mat[i, :])\n",
    "\n",
    "evaluate(pred_n, train_mat, valid_mat, model_name=\"Per-user average\")"
   ]
  },
  {
   "cell_type": "code",
   "execution_count": 15,
   "metadata": {},
   "outputs": [
    {
     "name": "stdout",
     "output_type": "stream",
     "text": [
      "Per-product average train RMSE: 0.94\n",
      "Per-product average valid RMSE: 1.03\n"
     ]
    },
    {
     "name": "stderr",
     "output_type": "stream",
     "text": [
      "/var/folders/bb/rx_p8sh57r19xkmxl14ylgch0000gn/T/ipykernel_92764/1178269696.py:5: RuntimeWarning: Mean of empty slice\n",
      "  column_mean = np.nanmean(train_mat[:, j])\n"
     ]
    }
   ],
   "source": [
    "# Per product Average\n",
    "\n",
    "pred_m = np.zeros(train_mat.shape)\n",
    "for j in range(train_mat.shape[1]):\n",
    "    column_mean = np.nanmean(train_mat[:, j])\n",
    "    if np.isnan(column_mean):\n",
    "        pred_m[:, j] = avg\n",
    "    else:\n",
    "        pred_m[:, j] = column_mean\n",
    "\n",
    "evaluate(pred_m, train_mat, valid_mat, model_name=\"Per-product average\")"
   ]
  },
  {
   "cell_type": "code",
   "execution_count": 16,
   "metadata": {},
   "outputs": [
    {
     "name": "stdout",
     "output_type": "stream",
     "text": [
      "Average of per-user and per-product average train RMSE: 0.89\n",
      "Average of per-user and per-product average valid RMSE: 0.96\n"
     ]
    }
   ],
   "source": [
    "# Per-user and per-product average \n",
    "\n",
    "pred_n_m = np.zeros(train_mat.shape)\n",
    "for i in range(train_mat.shape[0]):\n",
    "    for j in range(train_mat.shape[1]):\n",
    "        pred_n_m[i, j] = (pred_n[i, j] + pred_m[i, j]) / 2\n",
    "\n",
    "evaluate(pred_n_m, train_mat, valid_mat, model_name=\"Average of per-user and per-product average\")"
   ]
  },
  {
   "cell_type": "code",
   "execution_count": 17,
   "metadata": {},
   "outputs": [
    {
     "name": "stdout",
     "output_type": "stream",
     "text": [
      "KNN imputer n_neighbors=2 train RMSE: 0.00\n",
      "KNN imputer n_neighbors=2 valid RMSE: 1.06\n"
     ]
    }
   ],
   "source": [
    "# k-nearest neighbours imputation\n",
    "\n",
    "from sklearn.impute import KNNImputer\n",
    "\n",
    "imputer = KNNImputer(n_neighbors=5, keep_empty_features=True)\n",
    "train_mat_imp = imputer.fit_transform(train_mat)\n",
    "evaluate(train_mat_imp, train_mat, valid_mat, model_name=\"KNN imputer n_neighbors=2\")"
   ]
  },
  {
   "cell_type": "markdown",
   "metadata": {},
   "source": [
    "## Content-Based Approach (Using Ridge)"
   ]
  },
  {
   "cell_type": "code",
   "execution_count": 18,
   "metadata": {},
   "outputs": [
    {
     "data": {
      "text/html": [
       "<div>\n",
       "<style scoped>\n",
       "    .dataframe tbody tr th:only-of-type {\n",
       "        vertical-align: middle;\n",
       "    }\n",
       "\n",
       "    .dataframe tbody tr th {\n",
       "        vertical-align: top;\n",
       "    }\n",
       "\n",
       "    .dataframe thead th {\n",
       "        text-align: right;\n",
       "    }\n",
       "</style>\n",
       "<table border=\"1\" class=\"dataframe\">\n",
       "  <thead>\n",
       "    <tr style=\"text-align: right;\">\n",
       "      <th></th>\n",
       "      <th>product_id</th>\n",
       "      <th>average_rating</th>\n",
       "      <th>aggregated_reviews</th>\n",
       "      <th>summarized_reviews</th>\n",
       "    </tr>\n",
       "  </thead>\n",
       "  <tbody>\n",
       "    <tr>\n",
       "      <th>0</th>\n",
       "      <td>0020425651</td>\n",
       "      <td>5.000000</td>\n",
       "      <td>susan cooper dark rising sequence joined pryda...</td>\n",
       "      <td>susan cooper dark rising sequence joined pryda...</td>\n",
       "    </tr>\n",
       "    <tr>\n",
       "      <th>1</th>\n",
       "      <td>0028610105</td>\n",
       "      <td>4.400000</td>\n",
       "      <td>sheer diversity recipe japanese thai indian fr...</td>\n",
       "      <td>sheer diversity recipe japanese thai indian fr...</td>\n",
       "    </tr>\n",
       "    <tr>\n",
       "      <th>2</th>\n",
       "      <td>006001203X</td>\n",
       "      <td>4.100000</td>\n",
       "      <td>health care proffesional tell way traumatising...</td>\n",
       "      <td>health care proffesional tell way traumatising...</td>\n",
       "    </tr>\n",
       "    <tr>\n",
       "      <th>3</th>\n",
       "      <td>0060096195</td>\n",
       "      <td>4.428571</td>\n",
       "      <td>started reading one bathtub get id gotten fina...</td>\n",
       "      <td>started reading one bathtub get id gotten fina...</td>\n",
       "    </tr>\n",
       "    <tr>\n",
       "      <th>4</th>\n",
       "      <td>006016848X</td>\n",
       "      <td>3.562500</td>\n",
       "      <td>really like book time everyone want equality s...</td>\n",
       "      <td>really like book time everyone want equality s...</td>\n",
       "    </tr>\n",
       "  </tbody>\n",
       "</table>\n",
       "</div>"
      ],
      "text/plain": [
       "   product_id  average_rating  \\\n",
       "0  0020425651        5.000000   \n",
       "1  0028610105        4.400000   \n",
       "2  006001203X        4.100000   \n",
       "3  0060096195        4.428571   \n",
       "4  006016848X        3.562500   \n",
       "\n",
       "                                  aggregated_reviews  \\\n",
       "0  susan cooper dark rising sequence joined pryda...   \n",
       "1  sheer diversity recipe japanese thai indian fr...   \n",
       "2  health care proffesional tell way traumatising...   \n",
       "3  started reading one bathtub get id gotten fina...   \n",
       "4  really like book time everyone want equality s...   \n",
       "\n",
       "                                  summarized_reviews  \n",
       "0  susan cooper dark rising sequence joined pryda...  \n",
       "1  sheer diversity recipe japanese thai indian fr...  \n",
       "2  health care proffesional tell way traumatising...  \n",
       "3  started reading one bathtub get id gotten fina...  \n",
       "4  really like book time everyone want equality s...  "
      ]
     },
     "execution_count": 18,
     "metadata": {},
     "output_type": "execute_result"
    }
   ],
   "source": [
    "summarized_review = pd.read_csv(\"data/summarized_review.csv\")\n",
    "summarized_review.head()"
   ]
  },
  {
   "cell_type": "code",
   "execution_count": 19,
   "metadata": {},
   "outputs": [
    {
     "data": {
      "text/html": [
       "<div>\n",
       "<style scoped>\n",
       "    .dataframe tbody tr th:only-of-type {\n",
       "        vertical-align: middle;\n",
       "    }\n",
       "\n",
       "    .dataframe tbody tr th {\n",
       "        vertical-align: top;\n",
       "    }\n",
       "\n",
       "    .dataframe thead th {\n",
       "        text-align: right;\n",
       "    }\n",
       "</style>\n",
       "<table border=\"1\" class=\"dataframe\">\n",
       "  <thead>\n",
       "    <tr style=\"text-align: right;\">\n",
       "      <th></th>\n",
       "      <th>product_id</th>\n",
       "      <th>average_rating</th>\n",
       "      <th>aggregated_reviews</th>\n",
       "      <th>summarized_reviews</th>\n",
       "      <th>0</th>\n",
       "      <th>1</th>\n",
       "      <th>2</th>\n",
       "      <th>3</th>\n",
       "      <th>4</th>\n",
       "      <th>5</th>\n",
       "      <th>...</th>\n",
       "      <th>374</th>\n",
       "      <th>375</th>\n",
       "      <th>376</th>\n",
       "      <th>377</th>\n",
       "      <th>378</th>\n",
       "      <th>379</th>\n",
       "      <th>380</th>\n",
       "      <th>381</th>\n",
       "      <th>382</th>\n",
       "      <th>383</th>\n",
       "    </tr>\n",
       "  </thead>\n",
       "  <tbody>\n",
       "    <tr>\n",
       "      <th>0</th>\n",
       "      <td>0020425651</td>\n",
       "      <td>5.000000</td>\n",
       "      <td>susan cooper dark rising sequence joined pryda...</td>\n",
       "      <td>susan cooper dark rising sequence joined pryda...</td>\n",
       "      <td>-0.070799</td>\n",
       "      <td>-0.061837</td>\n",
       "      <td>-0.003631</td>\n",
       "      <td>0.012133</td>\n",
       "      <td>-0.035551</td>\n",
       "      <td>0.093195</td>\n",
       "      <td>...</td>\n",
       "      <td>0.065155</td>\n",
       "      <td>0.053727</td>\n",
       "      <td>0.003597</td>\n",
       "      <td>0.088892</td>\n",
       "      <td>-0.042067</td>\n",
       "      <td>0.041044</td>\n",
       "      <td>0.070728</td>\n",
       "      <td>-0.043085</td>\n",
       "      <td>-0.064512</td>\n",
       "      <td>0.038242</td>\n",
       "    </tr>\n",
       "    <tr>\n",
       "      <th>1</th>\n",
       "      <td>0028610105</td>\n",
       "      <td>4.400000</td>\n",
       "      <td>sheer diversity recipe japanese thai indian fr...</td>\n",
       "      <td>sheer diversity recipe japanese thai indian fr...</td>\n",
       "      <td>-0.073018</td>\n",
       "      <td>-0.023593</td>\n",
       "      <td>0.066772</td>\n",
       "      <td>0.036159</td>\n",
       "      <td>0.006666</td>\n",
       "      <td>-0.010815</td>\n",
       "      <td>...</td>\n",
       "      <td>0.042942</td>\n",
       "      <td>0.037886</td>\n",
       "      <td>-0.001067</td>\n",
       "      <td>-0.009074</td>\n",
       "      <td>0.065551</td>\n",
       "      <td>-0.054624</td>\n",
       "      <td>0.067726</td>\n",
       "      <td>0.079832</td>\n",
       "      <td>-0.015437</td>\n",
       "      <td>-0.041357</td>\n",
       "    </tr>\n",
       "    <tr>\n",
       "      <th>2</th>\n",
       "      <td>006001203X</td>\n",
       "      <td>4.100000</td>\n",
       "      <td>health care proffesional tell way traumatising...</td>\n",
       "      <td>health care proffesional tell way traumatising...</td>\n",
       "      <td>0.004559</td>\n",
       "      <td>0.033951</td>\n",
       "      <td>0.020969</td>\n",
       "      <td>0.073957</td>\n",
       "      <td>-0.022270</td>\n",
       "      <td>0.056416</td>\n",
       "      <td>...</td>\n",
       "      <td>-0.005109</td>\n",
       "      <td>0.098458</td>\n",
       "      <td>0.004446</td>\n",
       "      <td>0.010148</td>\n",
       "      <td>-0.050168</td>\n",
       "      <td>0.036669</td>\n",
       "      <td>0.133147</td>\n",
       "      <td>0.013290</td>\n",
       "      <td>0.063390</td>\n",
       "      <td>0.043042</td>\n",
       "    </tr>\n",
       "    <tr>\n",
       "      <th>3</th>\n",
       "      <td>0060096195</td>\n",
       "      <td>4.428571</td>\n",
       "      <td>started reading one bathtub get id gotten fina...</td>\n",
       "      <td>started reading one bathtub get id gotten fina...</td>\n",
       "      <td>-0.066638</td>\n",
       "      <td>-0.083743</td>\n",
       "      <td>0.053587</td>\n",
       "      <td>0.066727</td>\n",
       "      <td>-0.009095</td>\n",
       "      <td>0.022768</td>\n",
       "      <td>...</td>\n",
       "      <td>0.046725</td>\n",
       "      <td>0.029233</td>\n",
       "      <td>0.014859</td>\n",
       "      <td>0.084216</td>\n",
       "      <td>-0.085885</td>\n",
       "      <td>0.048461</td>\n",
       "      <td>0.023749</td>\n",
       "      <td>0.003057</td>\n",
       "      <td>-0.075700</td>\n",
       "      <td>-0.034523</td>\n",
       "    </tr>\n",
       "    <tr>\n",
       "      <th>4</th>\n",
       "      <td>006016848X</td>\n",
       "      <td>3.562500</td>\n",
       "      <td>really like book time everyone want equality s...</td>\n",
       "      <td>really like book time everyone want equality s...</td>\n",
       "      <td>-0.061388</td>\n",
       "      <td>0.048214</td>\n",
       "      <td>0.015069</td>\n",
       "      <td>-0.003492</td>\n",
       "      <td>-0.092024</td>\n",
       "      <td>0.022740</td>\n",
       "      <td>...</td>\n",
       "      <td>0.041296</td>\n",
       "      <td>0.018716</td>\n",
       "      <td>0.018985</td>\n",
       "      <td>0.015178</td>\n",
       "      <td>-0.019459</td>\n",
       "      <td>0.000856</td>\n",
       "      <td>0.134094</td>\n",
       "      <td>-0.078086</td>\n",
       "      <td>0.004868</td>\n",
       "      <td>-0.001025</td>\n",
       "    </tr>\n",
       "  </tbody>\n",
       "</table>\n",
       "<p>5 rows × 388 columns</p>\n",
       "</div>"
      ],
      "text/plain": [
       "   product_id  average_rating  \\\n",
       "0  0020425651        5.000000   \n",
       "1  0028610105        4.400000   \n",
       "2  006001203X        4.100000   \n",
       "3  0060096195        4.428571   \n",
       "4  006016848X        3.562500   \n",
       "\n",
       "                                  aggregated_reviews  \\\n",
       "0  susan cooper dark rising sequence joined pryda...   \n",
       "1  sheer diversity recipe japanese thai indian fr...   \n",
       "2  health care proffesional tell way traumatising...   \n",
       "3  started reading one bathtub get id gotten fina...   \n",
       "4  really like book time everyone want equality s...   \n",
       "\n",
       "                                  summarized_reviews         0         1  \\\n",
       "0  susan cooper dark rising sequence joined pryda... -0.070799 -0.061837   \n",
       "1  sheer diversity recipe japanese thai indian fr... -0.073018 -0.023593   \n",
       "2  health care proffesional tell way traumatising...  0.004559  0.033951   \n",
       "3  started reading one bathtub get id gotten fina... -0.066638 -0.083743   \n",
       "4  really like book time everyone want equality s... -0.061388  0.048214   \n",
       "\n",
       "          2         3         4         5  ...       374       375       376  \\\n",
       "0 -0.003631  0.012133 -0.035551  0.093195  ...  0.065155  0.053727  0.003597   \n",
       "1  0.066772  0.036159  0.006666 -0.010815  ...  0.042942  0.037886 -0.001067   \n",
       "2  0.020969  0.073957 -0.022270  0.056416  ... -0.005109  0.098458  0.004446   \n",
       "3  0.053587  0.066727 -0.009095  0.022768  ...  0.046725  0.029233  0.014859   \n",
       "4  0.015069 -0.003492 -0.092024  0.022740  ...  0.041296  0.018716  0.018985   \n",
       "\n",
       "        377       378       379       380       381       382       383  \n",
       "0  0.088892 -0.042067  0.041044  0.070728 -0.043085 -0.064512  0.038242  \n",
       "1 -0.009074  0.065551 -0.054624  0.067726  0.079832 -0.015437 -0.041357  \n",
       "2  0.010148 -0.050168  0.036669  0.133147  0.013290  0.063390  0.043042  \n",
       "3  0.084216 -0.085885  0.048461  0.023749  0.003057 -0.075700 -0.034523  \n",
       "4  0.015178 -0.019459  0.000856  0.134094 -0.078086  0.004868 -0.001025  \n",
       "\n",
       "[5 rows x 388 columns]"
      ]
     },
     "execution_count": 19,
     "metadata": {},
     "output_type": "execute_result"
    }
   ],
   "source": [
    "vectorized_data = pd.read_csv(\"data/vectorized_data.csv\")\n",
    "vectorized_data.head()"
   ]
  },
  {
   "cell_type": "code",
   "execution_count": 20,
   "metadata": {},
   "outputs": [
    {
     "data": {
      "text/html": [
       "<div>\n",
       "<style scoped>\n",
       "    .dataframe tbody tr th:only-of-type {\n",
       "        vertical-align: middle;\n",
       "    }\n",
       "\n",
       "    .dataframe tbody tr th {\n",
       "        vertical-align: top;\n",
       "    }\n",
       "\n",
       "    .dataframe thead th {\n",
       "        text-align: right;\n",
       "    }\n",
       "</style>\n",
       "<table border=\"1\" class=\"dataframe\">\n",
       "  <thead>\n",
       "    <tr style=\"text-align: right;\">\n",
       "      <th></th>\n",
       "      <th>0</th>\n",
       "      <th>1</th>\n",
       "      <th>2</th>\n",
       "      <th>3</th>\n",
       "      <th>4</th>\n",
       "      <th>5</th>\n",
       "      <th>6</th>\n",
       "      <th>7</th>\n",
       "      <th>8</th>\n",
       "      <th>9</th>\n",
       "      <th>...</th>\n",
       "      <th>374</th>\n",
       "      <th>375</th>\n",
       "      <th>376</th>\n",
       "      <th>377</th>\n",
       "      <th>378</th>\n",
       "      <th>379</th>\n",
       "      <th>380</th>\n",
       "      <th>381</th>\n",
       "      <th>382</th>\n",
       "      <th>383</th>\n",
       "    </tr>\n",
       "  </thead>\n",
       "  <tbody>\n",
       "    <tr>\n",
       "      <th>0</th>\n",
       "      <td>-0.070799</td>\n",
       "      <td>-0.061837</td>\n",
       "      <td>-0.003631</td>\n",
       "      <td>0.012133</td>\n",
       "      <td>-0.035551</td>\n",
       "      <td>0.093195</td>\n",
       "      <td>-0.016502</td>\n",
       "      <td>-0.043888</td>\n",
       "      <td>0.047747</td>\n",
       "      <td>0.004803</td>\n",
       "      <td>...</td>\n",
       "      <td>0.065155</td>\n",
       "      <td>0.053727</td>\n",
       "      <td>0.003597</td>\n",
       "      <td>0.088892</td>\n",
       "      <td>-0.042067</td>\n",
       "      <td>0.041044</td>\n",
       "      <td>0.070728</td>\n",
       "      <td>-0.043085</td>\n",
       "      <td>-0.064512</td>\n",
       "      <td>0.038242</td>\n",
       "    </tr>\n",
       "    <tr>\n",
       "      <th>1</th>\n",
       "      <td>-0.073018</td>\n",
       "      <td>-0.023593</td>\n",
       "      <td>0.066772</td>\n",
       "      <td>0.036159</td>\n",
       "      <td>0.006666</td>\n",
       "      <td>-0.010815</td>\n",
       "      <td>0.028194</td>\n",
       "      <td>-0.013484</td>\n",
       "      <td>0.044148</td>\n",
       "      <td>-0.062531</td>\n",
       "      <td>...</td>\n",
       "      <td>0.042942</td>\n",
       "      <td>0.037886</td>\n",
       "      <td>-0.001067</td>\n",
       "      <td>-0.009074</td>\n",
       "      <td>0.065551</td>\n",
       "      <td>-0.054624</td>\n",
       "      <td>0.067726</td>\n",
       "      <td>0.079832</td>\n",
       "      <td>-0.015437</td>\n",
       "      <td>-0.041357</td>\n",
       "    </tr>\n",
       "    <tr>\n",
       "      <th>2</th>\n",
       "      <td>0.004559</td>\n",
       "      <td>0.033951</td>\n",
       "      <td>0.020969</td>\n",
       "      <td>0.073957</td>\n",
       "      <td>-0.022270</td>\n",
       "      <td>0.056416</td>\n",
       "      <td>0.097014</td>\n",
       "      <td>0.059796</td>\n",
       "      <td>-0.071576</td>\n",
       "      <td>0.020534</td>\n",
       "      <td>...</td>\n",
       "      <td>-0.005109</td>\n",
       "      <td>0.098458</td>\n",
       "      <td>0.004446</td>\n",
       "      <td>0.010148</td>\n",
       "      <td>-0.050168</td>\n",
       "      <td>0.036669</td>\n",
       "      <td>0.133147</td>\n",
       "      <td>0.013290</td>\n",
       "      <td>0.063390</td>\n",
       "      <td>0.043042</td>\n",
       "    </tr>\n",
       "    <tr>\n",
       "      <th>3</th>\n",
       "      <td>-0.066638</td>\n",
       "      <td>-0.083743</td>\n",
       "      <td>0.053587</td>\n",
       "      <td>0.066727</td>\n",
       "      <td>-0.009095</td>\n",
       "      <td>0.022768</td>\n",
       "      <td>0.044251</td>\n",
       "      <td>-0.016787</td>\n",
       "      <td>-0.010836</td>\n",
       "      <td>0.024886</td>\n",
       "      <td>...</td>\n",
       "      <td>0.046725</td>\n",
       "      <td>0.029233</td>\n",
       "      <td>0.014859</td>\n",
       "      <td>0.084216</td>\n",
       "      <td>-0.085885</td>\n",
       "      <td>0.048461</td>\n",
       "      <td>0.023749</td>\n",
       "      <td>0.003057</td>\n",
       "      <td>-0.075700</td>\n",
       "      <td>-0.034523</td>\n",
       "    </tr>\n",
       "    <tr>\n",
       "      <th>4</th>\n",
       "      <td>-0.061388</td>\n",
       "      <td>0.048214</td>\n",
       "      <td>0.015069</td>\n",
       "      <td>-0.003492</td>\n",
       "      <td>-0.092024</td>\n",
       "      <td>0.022740</td>\n",
       "      <td>0.012945</td>\n",
       "      <td>-0.029013</td>\n",
       "      <td>-0.006583</td>\n",
       "      <td>0.110357</td>\n",
       "      <td>...</td>\n",
       "      <td>0.041296</td>\n",
       "      <td>0.018716</td>\n",
       "      <td>0.018985</td>\n",
       "      <td>0.015178</td>\n",
       "      <td>-0.019459</td>\n",
       "      <td>0.000856</td>\n",
       "      <td>0.134094</td>\n",
       "      <td>-0.078086</td>\n",
       "      <td>0.004868</td>\n",
       "      <td>-0.001025</td>\n",
       "    </tr>\n",
       "  </tbody>\n",
       "</table>\n",
       "<p>5 rows × 384 columns</p>\n",
       "</div>"
      ],
      "text/plain": [
       "          0         1         2         3         4         5         6  \\\n",
       "0 -0.070799 -0.061837 -0.003631  0.012133 -0.035551  0.093195 -0.016502   \n",
       "1 -0.073018 -0.023593  0.066772  0.036159  0.006666 -0.010815  0.028194   \n",
       "2  0.004559  0.033951  0.020969  0.073957 -0.022270  0.056416  0.097014   \n",
       "3 -0.066638 -0.083743  0.053587  0.066727 -0.009095  0.022768  0.044251   \n",
       "4 -0.061388  0.048214  0.015069 -0.003492 -0.092024  0.022740  0.012945   \n",
       "\n",
       "          7         8         9  ...       374       375       376       377  \\\n",
       "0 -0.043888  0.047747  0.004803  ...  0.065155  0.053727  0.003597  0.088892   \n",
       "1 -0.013484  0.044148 -0.062531  ...  0.042942  0.037886 -0.001067 -0.009074   \n",
       "2  0.059796 -0.071576  0.020534  ... -0.005109  0.098458  0.004446  0.010148   \n",
       "3 -0.016787 -0.010836  0.024886  ...  0.046725  0.029233  0.014859  0.084216   \n",
       "4 -0.029013 -0.006583  0.110357  ...  0.041296  0.018716  0.018985  0.015178   \n",
       "\n",
       "        378       379       380       381       382       383  \n",
       "0 -0.042067  0.041044  0.070728 -0.043085 -0.064512  0.038242  \n",
       "1  0.065551 -0.054624  0.067726  0.079832 -0.015437 -0.041357  \n",
       "2 -0.050168  0.036669  0.133147  0.013290  0.063390  0.043042  \n",
       "3 -0.085885  0.048461  0.023749  0.003057 -0.075700 -0.034523  \n",
       "4 -0.019459  0.000856  0.134094 -0.078086  0.004868 -0.001025  \n",
       "\n",
       "[5 rows x 384 columns]"
      ]
     },
     "execution_count": 20,
     "metadata": {},
     "output_type": "execute_result"
    }
   ],
   "source": [
    "vec_list = [str(i) for i in range(384)]\n",
    "\n",
    "vec_dataframe = vectorized_data[vec_list]\n",
    "vec_dataframe.head()"
   ]
  },
  {
   "cell_type": "code",
   "execution_count": 21,
   "metadata": {},
   "outputs": [
    {
     "data": {
      "text/plain": [
       "(1672, 384)"
      ]
     },
     "execution_count": 21,
     "metadata": {},
     "output_type": "execute_result"
    }
   ],
   "source": [
    "item_feats = vec_dataframe.to_numpy()\n",
    "item_feats.shape"
   ]
  },
  {
   "cell_type": "code",
   "execution_count": 22,
   "metadata": {},
   "outputs": [],
   "source": [
    "from collections import defaultdict\n",
    "\n",
    "\n",
    "def get_X_y_per_user(ratings, d=item_feats.shape[1]):\n",
    "    \"\"\"\n",
    "    Returns X and y for each user.\n",
    "\n",
    "    Parameters:\n",
    "    ----------\n",
    "    ratings : pandas.DataFrame\n",
    "         ratings data as a dataframe\n",
    "\n",
    "    d : int\n",
    "        number of item features\n",
    "\n",
    "    Return:\n",
    "    ----------\n",
    "        dictionaries containing X and y for all users\n",
    "    \"\"\"\n",
    "    lr_y = defaultdict(list)\n",
    "    lr_X = defaultdict(list)\n",
    "\n",
    "    for index, val in ratings.iterrows():\n",
    "        n = user_mapper[val[user_key]]\n",
    "        m = item_mapper[val[item_key]]\n",
    "        lr_X[n].append(item_feats[m])\n",
    "        lr_y[n].append(val[\"star_rating\"])\n",
    "\n",
    "    for n in lr_X:\n",
    "        lr_X[n] = np.array(lr_X[n])\n",
    "        lr_y[n] = np.array(lr_y[n])\n",
    "\n",
    "    return lr_X, lr_y"
   ]
  },
  {
   "cell_type": "code",
   "execution_count": 23,
   "metadata": {},
   "outputs": [
    {
     "name": "stdout",
     "output_type": "stream",
     "text": [
      "1214\n",
      "1214\n"
     ]
    }
   ],
   "source": [
    "X_train_lr, y_train_lr = get_X_y_per_user(X_train)\n",
    "print(len(X_train_lr))\n",
    "print(len(y_train_lr))"
   ]
  },
  {
   "cell_type": "code",
   "execution_count": 24,
   "metadata": {},
   "outputs": [
    {
     "name": "stdout",
     "output_type": "stream",
     "text": [
      "Users with no reviews: []\n"
     ]
    }
   ],
   "source": [
    "# Find users with no reviews (empty arrays)\n",
    "users_with_no_reviews = [user_id for user_id, ratings in X_train_lr.items() if len(ratings) == 0]\n",
    "\n",
    "print(f\"Users with no reviews: {users_with_no_reviews}\")"
   ]
  },
  {
   "cell_type": "code",
   "execution_count": 25,
   "metadata": {},
   "outputs": [
    {
     "name": "stdout",
     "output_type": "stream",
     "text": [
      "16\n"
     ]
    }
   ],
   "source": [
    "empty = 0\n",
    "for i in range(len(X_train_lr)):\n",
    "    value = len(X_train_lr[i])\n",
    "    if value == 0:\n",
    "        empty += 1\n",
    "\n",
    "print(empty)"
   ]
  },
  {
   "cell_type": "code",
   "execution_count": 26,
   "metadata": {},
   "outputs": [
    {
     "name": "stdout",
     "output_type": "stream",
     "text": [
      "MAX user ID: 1105\n",
      "The count of ratings for MAX: 136\n"
     ]
    }
   ],
   "source": [
    "max = 0\n",
    "for i in range(len(X_train_lr)):\n",
    "    value = len(X_train_lr[i])\n",
    "    if value > max:\n",
    "        max = value\n",
    "        position = i\n",
    "\n",
    "print(f\"MAX user ID: {position}\")\n",
    "print(f\"The count of ratings for MAX: {max}\")"
   ]
  },
  {
   "cell_type": "code",
   "execution_count": 27,
   "metadata": {},
   "outputs": [
    {
     "name": "stdout",
     "output_type": "stream",
     "text": [
      "MIN user ID: 59\n",
      "The count of ratings for MIN: 0\n"
     ]
    }
   ],
   "source": [
    "min = 100000\n",
    "for i in range(len(X_train_lr)):\n",
    "    value = len(X_train_lr[i])\n",
    "    if value < min:\n",
    "        min = value\n",
    "        position = i\n",
    "\n",
    "print(f\"MIN user ID: {position}\")\n",
    "print(f\"The count of ratings for MIN: {min}\")"
   ]
  },
  {
   "cell_type": "code",
   "execution_count": 28,
   "metadata": {},
   "outputs": [
    {
     "name": "stdout",
     "output_type": "stream",
     "text": [
      "Skipping model fitting for index 59 due to empty training data.\n",
      "Skipping model fitting for index 100 due to empty training data.\n",
      "Skipping model fitting for index 101 due to empty training data.\n",
      "Skipping model fitting for index 250 due to empty training data.\n",
      "Skipping model fitting for index 304 due to empty training data.\n",
      "Skipping model fitting for index 367 due to empty training data.\n",
      "Skipping model fitting for index 419 due to empty training data.\n",
      "Skipping model fitting for index 424 due to empty training data.\n",
      "Skipping model fitting for index 454 due to empty training data.\n",
      "Skipping model fitting for index 571 due to empty training data.\n",
      "Skipping model fitting for index 706 due to empty training data.\n",
      "Skipping model fitting for index 846 due to empty training data.\n",
      "Skipping model fitting for index 970 due to empty training data.\n",
      "Skipping model fitting for index 1092 due to empty training data.\n",
      "Skipping model fitting for index 1098 due to empty training data.\n",
      "Skipping model fitting for index 1107 due to empty training data.\n",
      "Content-based recommender train RMSE: 0.59\n",
      "Content-based recommender valid RMSE: 1.04\n"
     ]
    }
   ],
   "source": [
    "from sklearn.linear_model import Ridge\n",
    "import numpy as np\n",
    "import pandas as pd\n",
    "\n",
    "Z = vec_dataframe.to_numpy()\n",
    "\n",
    "models = dict()\n",
    "pred_lin_reg = np.zeros((N, M))\n",
    "\n",
    "for n in range(N):\n",
    "    X_train_df = pd.DataFrame(X_train_lr[n])\n",
    "    y_train_df = pd.DataFrame(y_train_lr[n])\n",
    "    \n",
    "    X_train_df.dropna(inplace=True)\n",
    "    y_train_df.dropna(inplace=True)\n",
    "    \n",
    "    X_train_lr[n] = X_train_df.to_numpy()\n",
    "    y_train_lr[n] = y_train_df.to_numpy()\n",
    "\n",
    "    if X_train_lr[n].shape[0] > 0 and y_train_lr[n].shape[0] > 0:\n",
    "        models[n] = Ridge()\n",
    "        models[n].fit(X_train_lr[n], y_train_lr[n])\n",
    "        pred_lin_reg[n] = models[n].predict(Z).flatten()\n",
    "    else:\n",
    "        print(f\"Skipping model fitting for index {n} due to empty training data.\")\n",
    "\n",
    "evaluate(pred_lin_reg, train_mat, valid_mat, model_name=\"Content-based recommender\")\n"
   ]
  }
 ],
 "metadata": {
  "kernelspec": {
   "display_name": "563",
   "language": "python",
   "name": "python3"
  },
  "language_info": {
   "codemirror_mode": {
    "name": "ipython",
    "version": 3
   },
   "file_extension": ".py",
   "mimetype": "text/x-python",
   "name": "python",
   "nbconvert_exporter": "python",
   "pygments_lexer": "ipython3",
   "version": "3.11.7"
  }
 },
 "nbformat": 4,
 "nbformat_minor": 2
}
