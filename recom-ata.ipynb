{
 "cells": [
  {
   "cell_type": "code",
   "execution_count": 18,
   "metadata": {},
   "outputs": [],
   "source": [
    "import os\n",
    "import numpy as np\n",
    "import pandas as pd\n",
    "from hashlib import sha1\n",
    "from sklearn.decomposition import TruncatedSVD\n",
    "from sklearn.model_selection import train_test_split"
   ]
  },
  {
   "cell_type": "code",
   "execution_count": 19,
   "metadata": {},
   "outputs": [
    {
     "data": {
      "text/html": [
       "<div>\n",
       "<style scoped>\n",
       "    .dataframe tbody tr th:only-of-type {\n",
       "        vertical-align: middle;\n",
       "    }\n",
       "\n",
       "    .dataframe tbody tr th {\n",
       "        vertical-align: top;\n",
       "    }\n",
       "\n",
       "    .dataframe thead th {\n",
       "        text-align: right;\n",
       "    }\n",
       "</style>\n",
       "<table border=\"1\" class=\"dataframe\">\n",
       "  <thead>\n",
       "    <tr style=\"text-align: right;\">\n",
       "      <th></th>\n",
       "      <th>marketplace</th>\n",
       "      <th>customer_id</th>\n",
       "      <th>review_id</th>\n",
       "      <th>product_id</th>\n",
       "      <th>product_parent</th>\n",
       "      <th>product_title</th>\n",
       "      <th>product_category</th>\n",
       "      <th>star_rating</th>\n",
       "      <th>helpful_votes</th>\n",
       "      <th>total_votes</th>\n",
       "      <th>vine</th>\n",
       "      <th>verified_purchase</th>\n",
       "      <th>review_headline</th>\n",
       "      <th>review_body</th>\n",
       "      <th>review_date</th>\n",
       "    </tr>\n",
       "  </thead>\n",
       "  <tbody>\n",
       "    <tr>\n",
       "      <th>0</th>\n",
       "      <td>US</td>\n",
       "      <td>50774468</td>\n",
       "      <td>REYUKJGWI1EGL</td>\n",
       "      <td>0380007789</td>\n",
       "      <td>856556145</td>\n",
       "      <td>The Wolf and the Dove</td>\n",
       "      <td>Books</td>\n",
       "      <td>3.0</td>\n",
       "      <td>12.0</td>\n",
       "      <td>17.0</td>\n",
       "      <td>N</td>\n",
       "      <td>N</td>\n",
       "      <td>The most palpable Woodiwiss novel I have read ...</td>\n",
       "      <td>Anything written by Kathleen E. Woodiwiss is a...</td>\n",
       "      <td>2005-10-14</td>\n",
       "    </tr>\n",
       "    <tr>\n",
       "      <th>1</th>\n",
       "      <td>US</td>\n",
       "      <td>53080748</td>\n",
       "      <td>R1A7RF31MUT168</td>\n",
       "      <td>0446532436</td>\n",
       "      <td>967980395</td>\n",
       "      <td>True Believer</td>\n",
       "      <td>Books</td>\n",
       "      <td>2.0</td>\n",
       "      <td>4.0</td>\n",
       "      <td>8.0</td>\n",
       "      <td>N</td>\n",
       "      <td>N</td>\n",
       "      <td>Wait for the Movie!</td>\n",
       "      <td>Not all that good.  I was waiting for a revela...</td>\n",
       "      <td>2005-10-14</td>\n",
       "    </tr>\n",
       "    <tr>\n",
       "      <th>2</th>\n",
       "      <td>US</td>\n",
       "      <td>50230169</td>\n",
       "      <td>R23MCAR8GSV3T0</td>\n",
       "      <td>0451526341</td>\n",
       "      <td>380925201</td>\n",
       "      <td>Animal farm: A Fairy Story</td>\n",
       "      <td>Books</td>\n",
       "      <td>4.0</td>\n",
       "      <td>2.0</td>\n",
       "      <td>2.0</td>\n",
       "      <td>N</td>\n",
       "      <td>N</td>\n",
       "      <td>Simple Yet Profound</td>\n",
       "      <td>A generation ago, the sight of the cover of Ge...</td>\n",
       "      <td>2005-10-14</td>\n",
       "    </tr>\n",
       "    <tr>\n",
       "      <th>3</th>\n",
       "      <td>US</td>\n",
       "      <td>50776149</td>\n",
       "      <td>RUCZYTA3MP0MR</td>\n",
       "      <td>038551428X</td>\n",
       "      <td>970964974</td>\n",
       "      <td>The Traveler (Fourth Realm Trilogy, Book 1)</td>\n",
       "      <td>Books</td>\n",
       "      <td>5.0</td>\n",
       "      <td>2.0</td>\n",
       "      <td>5.0</td>\n",
       "      <td>N</td>\n",
       "      <td>N</td>\n",
       "      <td>Great Marketing for a Pretty Good Book</td>\n",
       "      <td>The most interesting thing about this book is ...</td>\n",
       "      <td>2005-10-14</td>\n",
       "    </tr>\n",
       "    <tr>\n",
       "      <th>4</th>\n",
       "      <td>US</td>\n",
       "      <td>12598621</td>\n",
       "      <td>RCL2ARHKWH6RL</td>\n",
       "      <td>059035342X</td>\n",
       "      <td>667539744</td>\n",
       "      <td>Harry Potter and the Sorcerer's Stone</td>\n",
       "      <td>Books</td>\n",
       "      <td>5.0</td>\n",
       "      <td>2.0</td>\n",
       "      <td>2.0</td>\n",
       "      <td>N</td>\n",
       "      <td>N</td>\n",
       "      <td>I Think Part Of The Charm Is You Feel Like You...</td>\n",
       "      <td>Even though this is the shortest book in the H...</td>\n",
       "      <td>2005-10-14</td>\n",
       "    </tr>\n",
       "  </tbody>\n",
       "</table>\n",
       "</div>"
      ],
      "text/plain": [
       "  marketplace  customer_id       review_id  product_id  product_parent  \\\n",
       "0          US     50774468   REYUKJGWI1EGL  0380007789       856556145   \n",
       "1          US     53080748  R1A7RF31MUT168  0446532436       967980395   \n",
       "2          US     50230169  R23MCAR8GSV3T0  0451526341       380925201   \n",
       "3          US     50776149   RUCZYTA3MP0MR  038551428X       970964974   \n",
       "4          US     12598621   RCL2ARHKWH6RL  059035342X       667539744   \n",
       "\n",
       "                                 product_title product_category  star_rating  \\\n",
       "0                        The Wolf and the Dove            Books          3.0   \n",
       "1                                True Believer            Books          2.0   \n",
       "2                   Animal farm: A Fairy Story            Books          4.0   \n",
       "3  The Traveler (Fourth Realm Trilogy, Book 1)            Books          5.0   \n",
       "4        Harry Potter and the Sorcerer's Stone            Books          5.0   \n",
       "\n",
       "   helpful_votes  total_votes vine verified_purchase  \\\n",
       "0           12.0         17.0    N                 N   \n",
       "1            4.0          8.0    N                 N   \n",
       "2            2.0          2.0    N                 N   \n",
       "3            2.0          5.0    N                 N   \n",
       "4            2.0          2.0    N                 N   \n",
       "\n",
       "                                     review_headline  \\\n",
       "0  The most palpable Woodiwiss novel I have read ...   \n",
       "1                                Wait for the Movie!   \n",
       "2                                Simple Yet Profound   \n",
       "3             Great Marketing for a Pretty Good Book   \n",
       "4  I Think Part Of The Charm Is You Feel Like You...   \n",
       "\n",
       "                                         review_body review_date  \n",
       "0  Anything written by Kathleen E. Woodiwiss is a...  2005-10-14  \n",
       "1  Not all that good.  I was waiting for a revela...  2005-10-14  \n",
       "2  A generation ago, the sight of the cover of Ge...  2005-10-14  \n",
       "3  The most interesting thing about this book is ...  2005-10-14  \n",
       "4  Even though this is the shortest book in the H...  2005-10-14  "
      ]
     },
     "execution_count": 19,
     "metadata": {},
     "output_type": "execute_result"
    }
   ],
   "source": [
    "data = pd.read_csv(\"data/amazon_reviews_subset_60.csv\")\n",
    "data.head()"
   ]
  },
  {
   "cell_type": "code",
   "execution_count": 20,
   "metadata": {},
   "outputs": [],
   "source": [
    "ratings = data[[\"customer_id\", \"product_id\", \"star_rating\"]]"
   ]
  },
  {
   "cell_type": "code",
   "execution_count": 21,
   "metadata": {},
   "outputs": [
    {
     "name": "stdout",
     "output_type": "stream",
     "text": [
      "Number of users (N) : 2493\n",
      "Number of Products (M) : 3763\n"
     ]
    }
   ],
   "source": [
    "user_key = \"customer_id\"\n",
    "item_key = \"product_id\"\n",
    "N = len(ratings[user_key].unique())\n",
    "M = len(ratings[item_key].unique())\n",
    "print(f\"Number of users (N) : {N}\")\n",
    "print(f\"Number of Products (M) : {M}\")\n"
   ]
  },
  {
   "cell_type": "code",
   "execution_count": 22,
   "metadata": {},
   "outputs": [
    {
     "name": "stdout",
     "output_type": "stream",
     "text": [
      "Non-nan ratings percentage: 0.59\n"
     ]
    }
   ],
   "source": [
    "non_nan_ratings_percentage = (ratings.shape[0] / (N * M)) * 100\n",
    "print(f\"Non-nan ratings percentage: {np.round(non_nan_ratings_percentage,3)}\")"
   ]
  },
  {
   "cell_type": "code",
   "execution_count": 23,
   "metadata": {},
   "outputs": [
    {
     "name": "stdout",
     "output_type": "stream",
     "text": [
      "Average number of ratings per user : 22.21099077416767\n",
      "Average number of ratings per product: 14.71485516874834\n"
     ]
    }
   ],
   "source": [
    "avg_nratings_per_user = ratings.groupby(user_key).size().mean()\n",
    "avg_nratings_per_product = ratings.groupby(item_key).size().mean()\n",
    "\n",
    "print(f\"Average number of ratings per user : {avg_nratings_per_user}\")\n",
    "print(f\"Average number of ratings per product: {avg_nratings_per_product}\")"
   ]
  },
  {
   "cell_type": "code",
   "execution_count": 24,
   "metadata": {},
   "outputs": [
    {
     "data": {
      "text/plain": [
       "((44297, 3), (11075, 3))"
      ]
     },
     "execution_count": 24,
     "metadata": {},
     "output_type": "execute_result"
    }
   ],
   "source": [
    "X = ratings.copy()\n",
    "y = ratings[user_key]\n",
    "X_train, X_valid, y_train, y_valid = train_test_split(\n",
    "X, y, test_size=0.2, random_state=123\n",
    ")\n",
    "X_train.shape, X_valid.shape"
   ]
  },
  {
   "cell_type": "code",
   "execution_count": 25,
   "metadata": {},
   "outputs": [
    {
     "data": {
      "text/plain": [
       "24150    48296637\n",
       "30027    52159798\n",
       "17928    52009378\n",
       "22487    52626966\n",
       "43771    52613129\n",
       "           ...   \n",
       "54370    51403161\n",
       "17730    52947290\n",
       "28030    52999835\n",
       "15725    52697458\n",
       "52734    52856625\n",
       "Name: customer_id, Length: 44297, dtype: int64"
      ]
     },
     "execution_count": 25,
     "metadata": {},
     "output_type": "execute_result"
    }
   ],
   "source": [
    "y_train"
   ]
  },
  {
   "cell_type": "code",
   "execution_count": null,
   "metadata": {},
   "outputs": [],
   "source": []
  },
  {
   "cell_type": "code",
   "execution_count": 26,
   "metadata": {},
   "outputs": [],
   "source": [
    "user_mapper = dict(zip(np.unique(ratings[user_key]), list(range(N))))\n",
    "item_mapper = dict(zip(np.unique(ratings[item_key]), list(range(M))))\n",
    "user_inverse_mapper = dict(zip(list(range(N)), np.unique(ratings[user_key])))\n",
    "item_inverse_mapper = dict(zip(list(range(M)), np.unique(ratings[item_key])))\n",
    "\n",
    "def create_Y_from_ratings(\n",
    "    data, N, M, user_mapper, item_mapper, user_key=\"customer_id\", item_key=\"product_id\"\n",
    "):  # Function to create a dense utility matrix\n",
    "    Y = np.zeros((N, M))\n",
    "    Y.fill(np.nan)\n",
    "    for index, val in data.iterrows():\n",
    "        n = user_mapper[val[user_key]]\n",
    "        m = item_mapper[val[item_key]]\n",
    "        Y[n, m] = val[\"star_rating\"]\n",
    "\n",
    "    return Y\n",
    "\n",
    "\n",
    "train_mat = create_Y_from_ratings(X_train, N, M, user_mapper, item_mapper)\n",
    "valid_mat = create_Y_from_ratings(X_valid, N, M, user_mapper, item_mapper)"
   ]
  },
  {
   "cell_type": "code",
   "execution_count": 27,
   "metadata": {},
   "outputs": [
    {
     "data": {
      "text/plain": [
       "array([[nan, nan, nan, ..., nan, nan, nan],\n",
       "       [nan, nan, nan, ..., nan, nan, nan],\n",
       "       [nan, nan, nan, ..., nan, nan, nan],\n",
       "       ...,\n",
       "       [nan, nan, nan, ..., nan, nan, nan],\n",
       "       [nan, nan, nan, ..., nan, nan, nan],\n",
       "       [nan, nan, nan, ..., nan, nan, nan]])"
      ]
     },
     "execution_count": 27,
     "metadata": {},
     "output_type": "execute_result"
    }
   ],
   "source": [
    "valid_mat"
   ]
  },
  {
   "cell_type": "code",
   "execution_count": 28,
   "metadata": {},
   "outputs": [
    {
     "name": "stdout",
     "output_type": "stream",
     "text": [
      "Number of non-nan elements in train_mat: 43068\n",
      "Number of non-nan elements in valid_mat: 10976\n"
     ]
    }
   ],
   "source": [
    "nnn_train_mat = np.count_nonzero(~np.isnan(train_mat))\n",
    "nnn_valid_mat = np.count_nonzero(~np.isnan(valid_mat))\n",
    "\n",
    "print(f\"Number of non-nan elements in train_mat: {nnn_train_mat}\")\n",
    "print(f\"Number of non-nan elements in valid_mat: {nnn_valid_mat}\")"
   ]
  },
  {
   "cell_type": "code",
   "execution_count": 29,
   "metadata": {},
   "outputs": [],
   "source": [
    "def error(Y1, Y2):\n",
    "    \"\"\"\n",
    "    Given two matrices of the same shape, \n",
    "    returns the root mean squared error (RMSE).\n",
    "    \"\"\"\n",
    "    return np.sqrt(np.nanmean((Y1 - Y2) ** 2))\n",
    "\n",
    "\n",
    "def evaluate(pred_Y, train_mat, valid_mat, model_name=\"Global average\"):\n",
    "    \"\"\"\n",
    "    Given predicted utility matrix and train and validation utility matrices \n",
    "    print train and validation RMSEs.\n",
    "    \"\"\"\n",
    "    print(\"%s train RMSE: %0.2f\" % (model_name, error(pred_Y, train_mat)))\n",
    "    print(\"%s valid RMSE: %0.2f\" % (model_name, error(pred_Y, valid_mat)))"
   ]
  },
  {
   "cell_type": "code",
   "execution_count": 30,
   "metadata": {},
   "outputs": [
    {
     "name": "stdout",
     "output_type": "stream",
     "text": [
      "Global average train RMSE: 1.08\n",
      "Global average valid RMSE: 1.09\n"
     ]
    }
   ],
   "source": [
    "# Global Average Method\n",
    "\n",
    "avg = np.nanmean(train_mat)\n",
    "pred_g = np.zeros(train_mat.shape) + avg\n",
    "evaluate(pred_g, train_mat, valid_mat, model_name=\"Global average\")"
   ]
  },
  {
   "cell_type": "code",
   "execution_count": 31,
   "metadata": {},
   "outputs": [
    {
     "name": "stdout",
     "output_type": "stream",
     "text": [
      "Per-user average train RMSE: 0.95\n",
      "Per-user average valid RMSE: 1.02\n"
     ]
    },
    {
     "name": "stderr",
     "output_type": "stream",
     "text": [
      "/var/folders/bb/rx_p8sh57r19xkmxl14ylgch0000gn/T/ipykernel_92320/1879627093.py:6: RuntimeWarning: Mean of empty slice\n",
      "  pred_n[i, :] = np.nanmean(train_mat[i, :])\n"
     ]
    }
   ],
   "source": [
    "# Per User Average\n",
    "\n",
    "pred_n = np.zeros(train_mat.shape)\n",
    "avg_rate = []\n",
    "for i in range (train_mat.shape[0]):\n",
    "    pred_n[i, :] = np.nanmean(train_mat[i, :])\n",
    "\n",
    "evaluate(pred_n, train_mat, valid_mat, model_name=\"Per-user average\")"
   ]
  },
  {
   "cell_type": "code",
   "execution_count": 32,
   "metadata": {},
   "outputs": [
    {
     "name": "stderr",
     "output_type": "stream",
     "text": [
      "/var/folders/bb/rx_p8sh57r19xkmxl14ylgch0000gn/T/ipykernel_92320/1178269696.py:5: RuntimeWarning: Mean of empty slice\n",
      "  column_mean = np.nanmean(train_mat[:, j])\n"
     ]
    },
    {
     "name": "stdout",
     "output_type": "stream",
     "text": [
      "Per-product average train RMSE: 0.95\n",
      "Per-product average valid RMSE: 1.06\n"
     ]
    }
   ],
   "source": [
    "# Per product Average\n",
    "\n",
    "pred_m = np.zeros(train_mat.shape)\n",
    "for j in range(train_mat.shape[1]):\n",
    "    column_mean = np.nanmean(train_mat[:, j])\n",
    "    if np.isnan(column_mean):\n",
    "        pred_m[:, j] = avg\n",
    "    else:\n",
    "        pred_m[:, j] = column_mean\n",
    "\n",
    "evaluate(pred_m, train_mat, valid_mat, model_name=\"Per-product average\")"
   ]
  },
  {
   "cell_type": "code",
   "execution_count": 33,
   "metadata": {},
   "outputs": [
    {
     "name": "stdout",
     "output_type": "stream",
     "text": [
      "Average of per-user and per-product average train RMSE: 0.90\n",
      "Average of per-user and per-product average valid RMSE: 0.98\n"
     ]
    }
   ],
   "source": [
    "# Per-user and per-product average \n",
    "\n",
    "pred_n_m = np.zeros(train_mat.shape)\n",
    "for i in range(train_mat.shape[0]):\n",
    "    for j in range(train_mat.shape[1]):\n",
    "        pred_n_m[i, j] = (pred_n[i, j] + pred_m[i, j]) / 2\n",
    "\n",
    "evaluate(pred_n_m, train_mat, valid_mat, model_name=\"Average of per-user and per-product average\")"
   ]
  },
  {
   "cell_type": "code",
   "execution_count": 34,
   "metadata": {},
   "outputs": [
    {
     "name": "stdout",
     "output_type": "stream",
     "text": [
      "KNN imputer n_neighbors=2 train RMSE: 0.00\n",
      "KNN imputer n_neighbors=2 valid RMSE: 1.08\n"
     ]
    }
   ],
   "source": [
    "# k-nearest neighbours imputation\n",
    "\n",
    "from sklearn.impute import KNNImputer\n",
    "\n",
    "imputer = KNNImputer(n_neighbors=5, keep_empty_features=True)\n",
    "train_mat_imp = imputer.fit_transform(train_mat)\n",
    "evaluate(train_mat_imp, train_mat, valid_mat, model_name=\"KNN imputer n_neighbors=2\")"
   ]
  },
  {
   "cell_type": "code",
   "execution_count": 35,
   "metadata": {},
   "outputs": [
    {
     "name": "stdout",
     "output_type": "stream",
     "text": [
      "TruncatedSVD with 2 Components train RMSE: 0.89\n",
      "TruncatedSVD with 2 Components valid RMSE: 0.98\n",
      "TruncatedSVD with 4 Components train RMSE: 0.88\n",
      "TruncatedSVD with 4 Components valid RMSE: 0.97\n",
      "TruncatedSVD with 10 Components train RMSE: 0.86\n",
      "TruncatedSVD with 10 Components valid RMSE: 0.97\n",
      "TruncatedSVD with 12 Components train RMSE: 0.85\n",
      "TruncatedSVD with 12 Components valid RMSE: 0.97\n"
     ]
    }
   ],
   "source": [
    "# TruncatedSVD by replacing missing values with zeros\n",
    "\n",
    "nan_indices = np.isnan(train_mat)\n",
    "train_mat_sub_avg = np.where(nan_indices, np.nan, train_mat-pred_n_m)\n",
    "train_mat_sub_avg = np.nan_to_num(train_mat_sub_avg, nan=0)\n",
    "\n",
    "n_components = [2,4,10,12]\n",
    "for number in n_components:\n",
    "    model = TruncatedSVD(n_components=number, random_state=42)\n",
    "    model.fit(train_mat_sub_avg)\n",
    "    Z = model.transform(train_mat_sub_avg)\n",
    "    W = model.components_\n",
    "    reconstructed = Z@W + pred_n_m\n",
    "    evaluate(reconstructed, train_mat, valid_mat, model_name=f\"TruncatedSVD with {number} Components\")"
   ]
  },
  {
   "cell_type": "code",
   "execution_count": 36,
   "metadata": {},
   "outputs": [
    {
     "name": "stdout",
     "output_type": "stream",
     "text": [
      "Evaluating RMSE of algorithm SVD on 5 split(s).\n",
      "\n",
      "                  Fold 1  Fold 2  Fold 3  Fold 4  Fold 5  Mean    Std     \n",
      "RMSE (testset)    0.9661  0.9499  0.9547  0.9535  0.9460  0.9541  0.0068  \n",
      "Fit time          0.05    0.05    0.05    0.05    0.05    0.05    0.00    \n",
      "Test time         0.02    0.02    0.02    0.02    0.07    0.03    0.02    \n"
     ]
    }
   ],
   "source": [
    "# Collaborative filtering with surprise package\n",
    "\n",
    "import surprise\n",
    "from surprise import SVD, Dataset, Reader, accuracy\n",
    "from surprise.model_selection import cross_validate\n",
    "\n",
    "reader = Reader()\n",
    "data = Dataset.load_from_df(ratings, reader)\n",
    "\n",
    "trainset, validset = surprise.model_selection.train_test_split(\n",
    "    data, test_size=0.2, random_state=42\n",
    ")\n",
    "\n",
    "k = 2\n",
    "algo = SVD(n_factors=k, random_state=123)\n",
    "algo.fit(trainset)\n",
    "preds = algo.test(trainset.build_testset())\n",
    "\n",
    "cross_validate(algo, data, measures=[\"RMSE\"], cv=5, verbose=True);"
   ]
  },
  {
   "cell_type": "code",
   "execution_count": null,
   "metadata": {},
   "outputs": [],
   "source": []
  }
 ],
 "metadata": {
  "kernelspec": {
   "display_name": "563",
   "language": "python",
   "name": "python3"
  },
  "language_info": {
   "codemirror_mode": {
    "name": "ipython",
    "version": 3
   },
   "file_extension": ".py",
   "mimetype": "text/x-python",
   "name": "python",
   "nbconvert_exporter": "python",
   "pygments_lexer": "ipython3",
   "version": "3.11.7"
  }
 },
 "nbformat": 4,
 "nbformat_minor": 2
}
