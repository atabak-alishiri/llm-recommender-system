{
 "cells": [
  {
   "cell_type": "code",
   "execution_count": 89,
   "metadata": {},
   "outputs": [],
   "source": [
    "import os\n",
    "import numpy as np\n",
    "import pandas as pd\n",
    "from hashlib import sha1\n",
    "from sklearn.decomposition import TruncatedSVD\n",
    "from sklearn.model_selection import train_test_split"
   ]
  },
  {
   "cell_type": "code",
   "execution_count": 90,
   "metadata": {},
   "outputs": [
    {
     "data": {
      "text/html": [
       "<div>\n",
       "<style scoped>\n",
       "    .dataframe tbody tr th:only-of-type {\n",
       "        vertical-align: middle;\n",
       "    }\n",
       "\n",
       "    .dataframe tbody tr th {\n",
       "        vertical-align: top;\n",
       "    }\n",
       "\n",
       "    .dataframe thead th {\n",
       "        text-align: right;\n",
       "    }\n",
       "</style>\n",
       "<table border=\"1\" class=\"dataframe\">\n",
       "  <thead>\n",
       "    <tr style=\"text-align: right;\">\n",
       "      <th></th>\n",
       "      <th>marketplace</th>\n",
       "      <th>customer_id</th>\n",
       "      <th>review_id</th>\n",
       "      <th>product_id</th>\n",
       "      <th>product_parent</th>\n",
       "      <th>product_title</th>\n",
       "      <th>product_category</th>\n",
       "      <th>star_rating</th>\n",
       "      <th>helpful_votes</th>\n",
       "      <th>total_votes</th>\n",
       "      <th>vine</th>\n",
       "      <th>verified_purchase</th>\n",
       "      <th>review_headline</th>\n",
       "      <th>review_body</th>\n",
       "      <th>review_date</th>\n",
       "    </tr>\n",
       "  </thead>\n",
       "  <tbody>\n",
       "    <tr>\n",
       "      <th>0</th>\n",
       "      <td>US</td>\n",
       "      <td>38484071</td>\n",
       "      <td>RWCTJ6DAIGZ7T</td>\n",
       "      <td>0061087122</td>\n",
       "      <td>683956970</td>\n",
       "      <td>Master of Seduction (Sea Wolves Series)</td>\n",
       "      <td>Books</td>\n",
       "      <td>4.0</td>\n",
       "      <td>7.0</td>\n",
       "      <td>10.0</td>\n",
       "      <td>N</td>\n",
       "      <td>N</td>\n",
       "      <td>Good book</td>\n",
       "      <td>I have only read two books by Kinley MacGregor...</td>\n",
       "      <td>2002-07-06</td>\n",
       "    </tr>\n",
       "    <tr>\n",
       "      <th>1</th>\n",
       "      <td>US</td>\n",
       "      <td>51165577</td>\n",
       "      <td>R1H1YNIAYYLSKF</td>\n",
       "      <td>0345422805</td>\n",
       "      <td>234414967</td>\n",
       "      <td>Team Rodent : How Disney Devours the World</td>\n",
       "      <td>Books</td>\n",
       "      <td>4.0</td>\n",
       "      <td>7.0</td>\n",
       "      <td>9.0</td>\n",
       "      <td>N</td>\n",
       "      <td>N</td>\n",
       "      <td>the shady side of Disney</td>\n",
       "      <td>I read this book several years ago and since t...</td>\n",
       "      <td>2003-01-11</td>\n",
       "    </tr>\n",
       "    <tr>\n",
       "      <th>2</th>\n",
       "      <td>US</td>\n",
       "      <td>40669813</td>\n",
       "      <td>R1BQAW6T2KKOI4</td>\n",
       "      <td>0679764410</td>\n",
       "      <td>864803147</td>\n",
       "      <td>American Sphinx: The Character of Thomas Jeffe...</td>\n",
       "      <td>Books</td>\n",
       "      <td>5.0</td>\n",
       "      <td>46.0</td>\n",
       "      <td>56.0</td>\n",
       "      <td>N</td>\n",
       "      <td>N</td>\n",
       "      <td>Sphinx?</td>\n",
       "      <td>Five star effort by Ellis for what he did. If ...</td>\n",
       "      <td>2001-11-04</td>\n",
       "    </tr>\n",
       "    <tr>\n",
       "      <th>3</th>\n",
       "      <td>US</td>\n",
       "      <td>50358298</td>\n",
       "      <td>RVKRFPUQGVE30</td>\n",
       "      <td>0679879250</td>\n",
       "      <td>872660777</td>\n",
       "      <td>The Subtle Knife (His Dark Materials, Book 2)</td>\n",
       "      <td>Books</td>\n",
       "      <td>5.0</td>\n",
       "      <td>2.0</td>\n",
       "      <td>2.0</td>\n",
       "      <td>N</td>\n",
       "      <td>N</td>\n",
       "      <td>Where there's Will, there's a way...</td>\n",
       "      <td>This book was a worthy successor to The Golden...</td>\n",
       "      <td>2001-01-02</td>\n",
       "    </tr>\n",
       "    <tr>\n",
       "      <th>4</th>\n",
       "      <td>US</td>\n",
       "      <td>20997233</td>\n",
       "      <td>R3RW172U8DSP4O</td>\n",
       "      <td>0684840057</td>\n",
       "      <td>505830594</td>\n",
       "      <td>Radical Son: A Generational Odyssey</td>\n",
       "      <td>Books</td>\n",
       "      <td>5.0</td>\n",
       "      <td>19.0</td>\n",
       "      <td>23.0</td>\n",
       "      <td>N</td>\n",
       "      <td>N</td>\n",
       "      <td>Exceptionally Truthful Examination of a Tumult...</td>\n",
       "      <td>\\\\\"Radical Son\\\\\" is the well-written and brut...</td>\n",
       "      <td>2004-10-01</td>\n",
       "    </tr>\n",
       "  </tbody>\n",
       "</table>\n",
       "</div>"
      ],
      "text/plain": [
       "  marketplace  customer_id       review_id  product_id  product_parent  \\\n",
       "0          US     38484071   RWCTJ6DAIGZ7T  0061087122       683956970   \n",
       "1          US     51165577  R1H1YNIAYYLSKF  0345422805       234414967   \n",
       "2          US     40669813  R1BQAW6T2KKOI4  0679764410       864803147   \n",
       "3          US     50358298   RVKRFPUQGVE30  0679879250       872660777   \n",
       "4          US     20997233  R3RW172U8DSP4O  0684840057       505830594   \n",
       "\n",
       "                                       product_title product_category  \\\n",
       "0            Master of Seduction (Sea Wolves Series)            Books   \n",
       "1         Team Rodent : How Disney Devours the World            Books   \n",
       "2  American Sphinx: The Character of Thomas Jeffe...            Books   \n",
       "3      The Subtle Knife (His Dark Materials, Book 2)            Books   \n",
       "4                Radical Son: A Generational Odyssey            Books   \n",
       "\n",
       "   star_rating  helpful_votes  total_votes vine verified_purchase  \\\n",
       "0          4.0            7.0         10.0    N                 N   \n",
       "1          4.0            7.0          9.0    N                 N   \n",
       "2          5.0           46.0         56.0    N                 N   \n",
       "3          5.0            2.0          2.0    N                 N   \n",
       "4          5.0           19.0         23.0    N                 N   \n",
       "\n",
       "                                     review_headline  \\\n",
       "0                                          Good book   \n",
       "1                           the shady side of Disney   \n",
       "2                                            Sphinx?   \n",
       "3               Where there's Will, there's a way...   \n",
       "4  Exceptionally Truthful Examination of a Tumult...   \n",
       "\n",
       "                                         review_body review_date  \n",
       "0  I have only read two books by Kinley MacGregor...  2002-07-06  \n",
       "1  I read this book several years ago and since t...  2003-01-11  \n",
       "2  Five star effort by Ellis for what he did. If ...  2001-11-04  \n",
       "3  This book was a worthy successor to The Golden...  2001-01-02  \n",
       "4  \\\\\"Radical Son\\\\\" is the well-written and brut...  2004-10-01  "
      ]
     },
     "execution_count": 90,
     "metadata": {},
     "output_type": "execute_result"
    }
   ],
   "source": [
    "data = pd.read_csv(\"data/amazon_reviews_subset.csv\")\n",
    "data.head()"
   ]
  },
  {
   "cell_type": "code",
   "execution_count": 91,
   "metadata": {},
   "outputs": [],
   "source": [
    "ratings = data[[\"customer_id\", \"product_id\", \"star_rating\"]]"
   ]
  },
  {
   "cell_type": "code",
   "execution_count": 92,
   "metadata": {},
   "outputs": [
    {
     "name": "stdout",
     "output_type": "stream",
     "text": [
      "Number of users (N) : 1210\n",
      "Number of Products (M) : 1615\n"
     ]
    }
   ],
   "source": [
    "user_key = \"customer_id\"\n",
    "item_key = \"product_id\"\n",
    "N = len(ratings[user_key].unique())\n",
    "M = len(ratings[item_key].unique())\n",
    "print(f\"Number of users (N) : {N}\")\n",
    "print(f\"Number of Products (M) : {M}\")\n"
   ]
  },
  {
   "cell_type": "code",
   "execution_count": 93,
   "metadata": {},
   "outputs": [
    {
     "name": "stdout",
     "output_type": "stream",
     "text": [
      "Non-nan ratings percentage: 0.231\n"
     ]
    }
   ],
   "source": [
    "non_nan_ratings_percentage = (ratings.shape[0] / (N * M)) * 100\n",
    "print(f\"Non-nan ratings percentage: {np.round(non_nan_ratings_percentage,3)}\")"
   ]
  },
  {
   "cell_type": "code",
   "execution_count": 94,
   "metadata": {},
   "outputs": [
    {
     "name": "stdout",
     "output_type": "stream",
     "text": [
      "Average number of ratings per user : 3.727272727272727\n",
      "Average number of ratings per product: 2.7925696594427243\n"
     ]
    }
   ],
   "source": [
    "avg_nratings_per_user = ratings.groupby(user_key).size().mean()\n",
    "avg_nratings_per_product = ratings.groupby(item_key).size().mean()\n",
    "\n",
    "print(f\"Average number of ratings per user : {avg_nratings_per_user}\")\n",
    "print(f\"Average number of ratings per product: {avg_nratings_per_product}\")"
   ]
  },
  {
   "cell_type": "code",
   "execution_count": 95,
   "metadata": {},
   "outputs": [
    {
     "data": {
      "text/plain": [
       "((3608, 3), (902, 3))"
      ]
     },
     "execution_count": 95,
     "metadata": {},
     "output_type": "execute_result"
    }
   ],
   "source": [
    "X = ratings.copy()\n",
    "y = ratings[user_key]\n",
    "X_train, X_valid, y_train, y_valid = train_test_split(\n",
    "X, y, test_size=0.2, random_state=123\n",
    ")\n",
    "X_train.shape, X_valid.shape"
   ]
  },
  {
   "cell_type": "code",
   "execution_count": 96,
   "metadata": {},
   "outputs": [],
   "source": [
    "user_mapper = dict(zip(np.unique(ratings[user_key]), list(range(N))))\n",
    "item_mapper = dict(zip(np.unique(ratings[item_key]), list(range(M))))\n",
    "user_inverse_mapper = dict(zip(list(range(N)), np.unique(ratings[user_key])))\n",
    "item_inverse_mapper = dict(zip(list(range(M)), np.unique(ratings[item_key])))\n",
    "\n",
    "def create_Y_from_ratings(\n",
    "    data, N, M, user_mapper, item_mapper, user_key=\"customer_id\", item_key=\"product_id\"\n",
    "):  # Function to create a dense utility matrix\n",
    "    Y = np.zeros((N, M))\n",
    "    Y.fill(np.nan)\n",
    "    for index, val in data.iterrows():\n",
    "        n = user_mapper[val[user_key]]\n",
    "        m = item_mapper[val[item_key]]\n",
    "        Y[n, m] = val[\"star_rating\"]\n",
    "\n",
    "    return Y\n",
    "\n",
    "\n",
    "train_mat = create_Y_from_ratings(X_train, N, M, user_mapper, item_mapper)\n",
    "valid_mat = create_Y_from_ratings(X_valid, N, M, user_mapper, item_mapper)"
   ]
  },
  {
   "cell_type": "code",
   "execution_count": 97,
   "metadata": {},
   "outputs": [
    {
     "name": "stdout",
     "output_type": "stream",
     "text": [
      "Number of non-nan elements in train_mat: 3507\n",
      "Number of non-nan elements in valid_mat: 892\n"
     ]
    }
   ],
   "source": [
    "nnn_train_mat = np.count_nonzero(~np.isnan(train_mat))\n",
    "nnn_valid_mat = np.count_nonzero(~np.isnan(valid_mat))\n",
    "\n",
    "print(f\"Number of non-nan elements in train_mat: {nnn_train_mat}\")\n",
    "print(f\"Number of non-nan elements in valid_mat: {nnn_valid_mat}\")"
   ]
  },
  {
   "cell_type": "code",
   "execution_count": 98,
   "metadata": {},
   "outputs": [],
   "source": [
    "def error(Y1, Y2):\n",
    "    \"\"\"\n",
    "    Given two matrices of the same shape, \n",
    "    returns the root mean squared error (RMSE).\n",
    "    \"\"\"\n",
    "    return np.sqrt(np.nanmean((Y1 - Y2) ** 2))\n",
    "\n",
    "\n",
    "def evaluate(pred_Y, train_mat, valid_mat, model_name=\"Global average\"):\n",
    "    \"\"\"\n",
    "    Given predicted utility matrix and train and validation utility matrices \n",
    "    print train and validation RMSEs.\n",
    "    \"\"\"\n",
    "    print(\"%s train RMSE: %0.2f\" % (model_name, error(pred_Y, train_mat)))\n",
    "    print(\"%s valid RMSE: %0.2f\" % (model_name, error(pred_Y, valid_mat)))"
   ]
  },
  {
   "cell_type": "code",
   "execution_count": 99,
   "metadata": {},
   "outputs": [
    {
     "name": "stdout",
     "output_type": "stream",
     "text": [
      "Global average train RMSE: 1.15\n",
      "Global average valid RMSE: 1.16\n"
     ]
    }
   ],
   "source": [
    "# Global Average Method\n",
    "\n",
    "avg = np.nanmean(train_mat)\n",
    "pred_g = np.zeros(train_mat.shape) + avg\n",
    "evaluate(pred_g, train_mat, valid_mat, model_name=\"Global average\")"
   ]
  },
  {
   "cell_type": "code",
   "execution_count": 100,
   "metadata": {},
   "outputs": [
    {
     "name": "stdout",
     "output_type": "stream",
     "text": [
      "Per-user average train RMSE: 0.81\n",
      "Per-user average valid RMSE: 1.20\n"
     ]
    },
    {
     "name": "stderr",
     "output_type": "stream",
     "text": [
      "/var/folders/bb/rx_p8sh57r19xkmxl14ylgch0000gn/T/ipykernel_84826/1879627093.py:6: RuntimeWarning: Mean of empty slice\n",
      "  pred_n[i, :] = np.nanmean(train_mat[i, :])\n"
     ]
    }
   ],
   "source": [
    "# Per User Average\n",
    "\n",
    "pred_n = np.zeros(train_mat.shape)\n",
    "avg_rate = []\n",
    "for i in range (train_mat.shape[0]):\n",
    "    pred_n[i, :] = np.nanmean(train_mat[i, :])\n",
    "\n",
    "evaluate(pred_n, train_mat, valid_mat, model_name=\"Per-user average\")"
   ]
  },
  {
   "cell_type": "code",
   "execution_count": 101,
   "metadata": {},
   "outputs": [
    {
     "name": "stdout",
     "output_type": "stream",
     "text": [
      "Per-product average train RMSE: 0.81\n",
      "Per-product average valid RMSE: 1.29\n"
     ]
    },
    {
     "name": "stderr",
     "output_type": "stream",
     "text": [
      "/var/folders/bb/rx_p8sh57r19xkmxl14ylgch0000gn/T/ipykernel_84826/1178269696.py:5: RuntimeWarning: Mean of empty slice\n",
      "  column_mean = np.nanmean(train_mat[:, j])\n"
     ]
    }
   ],
   "source": [
    "# Per product Average\n",
    "\n",
    "pred_m = np.zeros(train_mat.shape)\n",
    "for j in range(train_mat.shape[1]):\n",
    "    column_mean = np.nanmean(train_mat[:, j])\n",
    "    if np.isnan(column_mean):\n",
    "        pred_m[:, j] = avg\n",
    "    else:\n",
    "        pred_m[:, j] = column_mean\n",
    "\n",
    "evaluate(pred_m, train_mat, valid_mat, model_name=\"Per-product average\")"
   ]
  },
  {
   "cell_type": "code",
   "execution_count": 102,
   "metadata": {},
   "outputs": [
    {
     "name": "stdout",
     "output_type": "stream",
     "text": [
      "Average of per-user and per-product average train RMSE: 0.70\n",
      "Average of per-user and per-product average valid RMSE: 1.10\n"
     ]
    }
   ],
   "source": [
    "# Per-user and per-product average \n",
    "\n",
    "pred_n_m = np.zeros(train_mat.shape)\n",
    "for i in range(train_mat.shape[0]):\n",
    "    for j in range(train_mat.shape[1]):\n",
    "        pred_n_m[i, j] = (pred_n[i, j] + pred_m[i, j]) / 2\n",
    "\n",
    "evaluate(pred_n_m, train_mat, valid_mat, model_name=\"Average of per-user and per-product average\")"
   ]
  },
  {
   "cell_type": "code",
   "execution_count": null,
   "metadata": {},
   "outputs": [],
   "source": []
  },
  {
   "cell_type": "code",
   "execution_count": null,
   "metadata": {},
   "outputs": [],
   "source": []
  }
 ],
 "metadata": {
  "kernelspec": {
   "display_name": "563",
   "language": "python",
   "name": "python3"
  },
  "language_info": {
   "codemirror_mode": {
    "name": "ipython",
    "version": 3
   },
   "file_extension": ".py",
   "mimetype": "text/x-python",
   "name": "python",
   "nbconvert_exporter": "python",
   "pygments_lexer": "ipython3",
   "version": "3.11.7"
  }
 },
 "nbformat": 4,
 "nbformat_minor": 2
}
