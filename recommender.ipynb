{
 "cells": [
  {
   "cell_type": "markdown",
   "id": "0eec1218-5ab8-4639-8adf-b5a969693d9d",
   "metadata": {},
   "source": [
    "<div class=\"alert alert-info\">\n",
    "\n",
    "## Introduction\n",
    "\n",
    "\n",
    "</div>"
   ]
  },
  {
   "cell_type": "code",
   "execution_count": 3,
   "id": "6dbf6a5c-6590-4378-bdb9-b3c912dbf0d1",
   "metadata": {},
   "outputs": [],
   "source": [
    "#import\n",
    "import os\n",
    "\n",
    "import numpy as np\n",
    "import pandas as pd\n",
    "from hashlib import sha1\n",
    "\n",
    "from sklearn.decomposition import TruncatedSVD\n",
    "from sklearn.metrics import mean_squared_error\n",
    "from sklearn.model_selection import train_test_split\n",
    "from surprise import SVD\n",
    "from surprise import Dataset, Reader\n",
    "from surprise.model_selection import train_test_split\n",
    "from surprise.model_selection import cross_validate\n",
    "from surprise import accuracy"
   ]
  },
  {
   "cell_type": "markdown",
   "id": "d4b961be-5f3c-4426-ab30-15b14a53cacc",
   "metadata": {},
   "source": [
    "<div class=\"alert alert-info\">\n",
    "\n",
    "## Data Description<a name=\"2\"></a>\n",
    "Given the large size of the dataset, only 10000 rows of the dataset is used for the models.\n",
    "This project utilizes a comprehensive dataset sourced from Kaggle, which can be accessed via the following link: (https://www.kaggle.com/datasets/beaglelee/amazon-reviews-us-books-v1-02-tsv-zip). The dataset consists of 15 columns and encompasses a substantial total of 3,105,370 rows, providing rich insights into customer feedback and product ratings specifically within the book category.\n",
    "\n",
    "Due to the extensive size of the dataset, a subset of 10,000 rows has been selected for analysis and modeling. This reduction allows for efficient processing while still capturing the diverse range of reviews and ratings present in the original dataset.\n",
    "</div>"
   ]
  },
  {
   "cell_type": "code",
   "execution_count": 4,
   "id": "7bbe7833-717b-4df6-8ea4-8f3b2f147ecf",
   "metadata": {},
   "outputs": [],
   "source": [
    "# Data\n",
    "data = pd.read_csv(\"data/amazon_reviews_us_Books_v1_02.tsv\", sep='\\t', on_bad_lines='skip')\n"
   ]
  },
  {
   "cell_type": "code",
   "execution_count": 5,
   "id": "bf3228b3-7f08-4f8e-a746-7abd2473b066",
   "metadata": {},
   "outputs": [
    {
     "data": {
      "text/html": [
       "<div>\n",
       "<style scoped>\n",
       "    .dataframe tbody tr th:only-of-type {\n",
       "        vertical-align: middle;\n",
       "    }\n",
       "\n",
       "    .dataframe tbody tr th {\n",
       "        vertical-align: top;\n",
       "    }\n",
       "\n",
       "    .dataframe thead th {\n",
       "        text-align: right;\n",
       "    }\n",
       "</style>\n",
       "<table border=\"1\" class=\"dataframe\">\n",
       "  <thead>\n",
       "    <tr style=\"text-align: right;\">\n",
       "      <th></th>\n",
       "      <th>marketplace</th>\n",
       "      <th>customer_id</th>\n",
       "      <th>review_id</th>\n",
       "      <th>product_id</th>\n",
       "      <th>product_parent</th>\n",
       "      <th>product_title</th>\n",
       "      <th>product_category</th>\n",
       "      <th>star_rating</th>\n",
       "      <th>helpful_votes</th>\n",
       "      <th>total_votes</th>\n",
       "      <th>vine</th>\n",
       "      <th>verified_purchase</th>\n",
       "      <th>review_headline</th>\n",
       "      <th>review_body</th>\n",
       "      <th>review_date</th>\n",
       "    </tr>\n",
       "  </thead>\n",
       "  <tbody>\n",
       "    <tr>\n",
       "      <th>0</th>\n",
       "      <td>US</td>\n",
       "      <td>12076615</td>\n",
       "      <td>RQ58W7SMO911M</td>\n",
       "      <td>0385730586</td>\n",
       "      <td>122662979</td>\n",
       "      <td>Sisterhood of the Traveling Pants (Book 1)</td>\n",
       "      <td>Books</td>\n",
       "      <td>4.0</td>\n",
       "      <td>2.0</td>\n",
       "      <td>3.0</td>\n",
       "      <td>N</td>\n",
       "      <td>N</td>\n",
       "      <td>this book was a great learning novel!</td>\n",
       "      <td>this boook was a great one that you could lear...</td>\n",
       "      <td>2005-10-14</td>\n",
       "    </tr>\n",
       "    <tr>\n",
       "      <th>1</th>\n",
       "      <td>US</td>\n",
       "      <td>12703090</td>\n",
       "      <td>RF6IUKMGL8SF</td>\n",
       "      <td>0811828964</td>\n",
       "      <td>56191234</td>\n",
       "      <td>The Bad Girl's Guide to Getting What You Want</td>\n",
       "      <td>Books</td>\n",
       "      <td>3.0</td>\n",
       "      <td>5.0</td>\n",
       "      <td>5.0</td>\n",
       "      <td>N</td>\n",
       "      <td>N</td>\n",
       "      <td>Fun Fluff</td>\n",
       "      <td>If you are looking for something to stimulate ...</td>\n",
       "      <td>2005-10-14</td>\n",
       "    </tr>\n",
       "    <tr>\n",
       "      <th>2</th>\n",
       "      <td>US</td>\n",
       "      <td>12257412</td>\n",
       "      <td>R1DOSHH6AI622S</td>\n",
       "      <td>1844161560</td>\n",
       "      <td>253182049</td>\n",
       "      <td>Eisenhorn (A Warhammer 40,000 Omnibus)</td>\n",
       "      <td>Books</td>\n",
       "      <td>4.0</td>\n",
       "      <td>1.0</td>\n",
       "      <td>22.0</td>\n",
       "      <td>N</td>\n",
       "      <td>N</td>\n",
       "      <td>this isn't a review</td>\n",
       "      <td>never read it-a young relative idicated he lik...</td>\n",
       "      <td>2005-10-14</td>\n",
       "    </tr>\n",
       "    <tr>\n",
       "      <th>3</th>\n",
       "      <td>US</td>\n",
       "      <td>50732546</td>\n",
       "      <td>RATOTLA3OF70O</td>\n",
       "      <td>0373836635</td>\n",
       "      <td>348672532</td>\n",
       "      <td>Colby Conspiracy (Colby Agency)</td>\n",
       "      <td>Books</td>\n",
       "      <td>5.0</td>\n",
       "      <td>2.0</td>\n",
       "      <td>2.0</td>\n",
       "      <td>N</td>\n",
       "      <td>N</td>\n",
       "      <td>fine author on her A-game</td>\n",
       "      <td>Though she is honored to be Chicago Woman of t...</td>\n",
       "      <td>2005-10-14</td>\n",
       "    </tr>\n",
       "    <tr>\n",
       "      <th>4</th>\n",
       "      <td>US</td>\n",
       "      <td>51964897</td>\n",
       "      <td>R1TNWRKIVHVYOV</td>\n",
       "      <td>0262181533</td>\n",
       "      <td>598678717</td>\n",
       "      <td>The Psychology of Proof: Deductive Reasoning i...</td>\n",
       "      <td>Books</td>\n",
       "      <td>4.0</td>\n",
       "      <td>0.0</td>\n",
       "      <td>2.0</td>\n",
       "      <td>N</td>\n",
       "      <td>N</td>\n",
       "      <td>Execellent cursor examination</td>\n",
       "      <td>Review based on a cursory examination by Unive...</td>\n",
       "      <td>2005-10-14</td>\n",
       "    </tr>\n",
       "  </tbody>\n",
       "</table>\n",
       "</div>"
      ],
      "text/plain": [
       "  marketplace  customer_id       review_id  product_id  product_parent  \\\n",
       "0          US     12076615   RQ58W7SMO911M  0385730586       122662979   \n",
       "1          US     12703090    RF6IUKMGL8SF  0811828964        56191234   \n",
       "2          US     12257412  R1DOSHH6AI622S  1844161560       253182049   \n",
       "3          US     50732546   RATOTLA3OF70O  0373836635       348672532   \n",
       "4          US     51964897  R1TNWRKIVHVYOV  0262181533       598678717   \n",
       "\n",
       "                                       product_title product_category  \\\n",
       "0         Sisterhood of the Traveling Pants (Book 1)            Books   \n",
       "1      The Bad Girl's Guide to Getting What You Want            Books   \n",
       "2             Eisenhorn (A Warhammer 40,000 Omnibus)            Books   \n",
       "3                    Colby Conspiracy (Colby Agency)            Books   \n",
       "4  The Psychology of Proof: Deductive Reasoning i...            Books   \n",
       "\n",
       "   star_rating  helpful_votes  total_votes vine verified_purchase  \\\n",
       "0          4.0            2.0          3.0    N                 N   \n",
       "1          3.0            5.0          5.0    N                 N   \n",
       "2          4.0            1.0         22.0    N                 N   \n",
       "3          5.0            2.0          2.0    N                 N   \n",
       "4          4.0            0.0          2.0    N                 N   \n",
       "\n",
       "                         review_headline  \\\n",
       "0  this book was a great learning novel!   \n",
       "1                              Fun Fluff   \n",
       "2                    this isn't a review   \n",
       "3              fine author on her A-game   \n",
       "4          Execellent cursor examination   \n",
       "\n",
       "                                         review_body review_date  \n",
       "0  this boook was a great one that you could lear...  2005-10-14  \n",
       "1  If you are looking for something to stimulate ...  2005-10-14  \n",
       "2  never read it-a young relative idicated he lik...  2005-10-14  \n",
       "3  Though she is honored to be Chicago Woman of t...  2005-10-14  \n",
       "4  Review based on a cursory examination by Unive...  2005-10-14  "
      ]
     },
     "execution_count": 5,
     "metadata": {},
     "output_type": "execute_result"
    }
   ],
   "source": [
    "data.head()"
   ]
  },
  {
   "cell_type": "markdown",
   "id": "fe5e2f95-f813-4cd3-879c-34b3d3f9cfc1",
   "metadata": {},
   "source": [
    "<div class=\"alert alert-info\">\n",
    "\n",
    "## Exploratory Data Analysis(EDA) <a name=\"3\"></a>\n",
    "\n",
    "This section outlines the exploratory data analysis techniques employed to extract meaningful insights from the dataset, guiding the subsequent steps in model development.\n",
    "\n",
    "To create a focused subset for analysis, we identified the 1,000 unique product IDs with the highest number of reviews. From this selection, we sampled a total of 10,000 rows corresponding to their reviews. As a result, our final subset comprises 10,000 rows, encompassing 993 distinct products and 9,993 associated reviews. This approach ensures a diverse representation of products while allowing us to conduct a thorough examination of customer feedback.\n",
    "\n",
    "</div>"
   ]
  },
  {
   "cell_type": "code",
   "execution_count": 6,
   "id": "bf4c5e63-e457-4f53-ba53-3b7d23e0686e",
   "metadata": {},
   "outputs": [
    {
     "name": "stdout",
     "output_type": "stream",
     "text": [
      "<class 'pandas.core.frame.DataFrame'>\n",
      "RangeIndex: 3105370 entries, 0 to 3105369\n",
      "Data columns (total 15 columns):\n",
      " #   Column             Dtype  \n",
      "---  ------             -----  \n",
      " 0   marketplace        object \n",
      " 1   customer_id        int64  \n",
      " 2   review_id          object \n",
      " 3   product_id         object \n",
      " 4   product_parent     int64  \n",
      " 5   product_title      object \n",
      " 6   product_category   object \n",
      " 7   star_rating        float64\n",
      " 8   helpful_votes      float64\n",
      " 9   total_votes        float64\n",
      " 10  vine               object \n",
      " 11  verified_purchase  object \n",
      " 12  review_headline    object \n",
      " 13  review_body        object \n",
      " 14  review_date        object \n",
      "dtypes: float64(3), int64(2), object(10)\n",
      "memory usage: 355.4+ MB\n"
     ]
    }
   ],
   "source": [
    "data.info()"
   ]
  },
  {
   "cell_type": "code",
   "execution_count": 7,
   "id": "bcb0bdf6-8c2d-409f-9640-e625aefc7f38",
   "metadata": {},
   "outputs": [
    {
     "data": {
      "text/plain": [
       "marketplace            0\n",
       "customer_id            0\n",
       "review_id              0\n",
       "product_id             0\n",
       "product_parent         0\n",
       "product_title          0\n",
       "product_category       0\n",
       "star_rating            4\n",
       "helpful_votes          4\n",
       "total_votes            4\n",
       "vine                   4\n",
       "verified_purchase      4\n",
       "review_headline       57\n",
       "review_body            4\n",
       "review_date          133\n",
       "dtype: int64"
      ]
     },
     "execution_count": 7,
     "metadata": {},
     "output_type": "execute_result"
    }
   ],
   "source": [
    "data.isnull().sum()"
   ]
  },
  {
   "cell_type": "code",
   "execution_count": 8,
   "id": "ed0a5f88-14af-4fd4-baf2-b22a8cd3c122",
   "metadata": {},
   "outputs": [],
   "source": [
    "data = data.dropna()"
   ]
  },
  {
   "cell_type": "code",
   "execution_count": 9,
   "id": "bd566ae0-7c36-40be-b983-4456e5c79188",
   "metadata": {},
   "outputs": [],
   "source": [
    "data.replace(['null', 'N/A', '', ' '], np.nan, inplace=True)"
   ]
  },
  {
   "cell_type": "code",
   "execution_count": 10,
   "id": "f8c3e030-ec22-4e02-9572-303fde59d229",
   "metadata": {},
   "outputs": [
    {
     "data": {
      "text/plain": [
       "marketplace          0\n",
       "customer_id          0\n",
       "review_id            0\n",
       "product_id           0\n",
       "product_parent       0\n",
       "product_title        0\n",
       "product_category     0\n",
       "star_rating          0\n",
       "helpful_votes        0\n",
       "total_votes          0\n",
       "vine                 0\n",
       "verified_purchase    0\n",
       "review_headline      0\n",
       "review_body          0\n",
       "review_date          0\n",
       "dtype: int64"
      ]
     },
     "execution_count": 10,
     "metadata": {},
     "output_type": "execute_result"
    }
   ],
   "source": [
    "data.isnull().sum()"
   ]
  },
  {
   "cell_type": "code",
   "execution_count": 11,
   "id": "56ec071b-1471-4a84-adbf-8353cfa1f418",
   "metadata": {},
   "outputs": [
    {
     "data": {
      "text/plain": [
       "marketplace                1\n",
       "customer_id          1502265\n",
       "review_id            3105184\n",
       "product_id            779692\n",
       "product_parent        666003\n",
       "product_title         713665\n",
       "product_category           1\n",
       "star_rating                5\n",
       "helpful_votes            942\n",
       "total_votes             1024\n",
       "vine                       2\n",
       "verified_purchase          2\n",
       "review_headline      2456998\n",
       "review_body          3070458\n",
       "review_date             3575\n",
       "dtype: int64"
      ]
     },
     "execution_count": 11,
     "metadata": {},
     "output_type": "execute_result"
    }
   ],
   "source": [
    "data.nunique()"
   ]
  },
  {
   "cell_type": "code",
   "execution_count": 20,
   "id": "7fceca8a-44a0-47d0-8bc4-f1b380be7674",
   "metadata": {},
   "outputs": [
    {
     "data": {
      "text/plain": [
       "(389017, 15)"
      ]
     },
     "execution_count": 20,
     "metadata": {},
     "output_type": "execute_result"
    }
   ],
   "source": [
    "# Step 1: Filter customers with at least 10 reviews\n",
    "customers_with_at_least_10_reviews = customer_review_counts[customer_review_counts['review_count'] >= 10]\n",
    "\n",
    "# Step 2: Filter products with at least 10 reviews\n",
    "product_review_counts = data.groupby('product_id').size().reset_index(name='review_count')\n",
    "products_with_at_least_10_reviews = product_review_counts[product_review_counts['review_count'] >= 10]\n",
    "\n",
    "# Step 3: Filter the original dataset to only include customers and products with at least 10 reviews\n",
    "filtered_data = data[\n",
    "    (data['customer_id'].isin(customers_with_at_least_10_reviews['customer_id'])) &\n",
    "    (data['product_id'].isin(products_with_at_least_10_reviews['product_id']))\n",
    "]\n",
    "filtered_data.shape"
   ]
  },
  {
   "cell_type": "code",
   "execution_count": 22,
   "id": "73d6a8b0-6595-4909-b598-0495cee1b4f5",
   "metadata": {},
   "outputs": [
    {
     "name": "stdout",
     "output_type": "stream",
     "text": [
      "Number of customers with at least 10 reviews: 14364\n",
      "Number of products with at least 10 reviews: 10727\n"
     ]
    }
   ],
   "source": [
    "\n",
    "customer_review_counts_filtered = filtered_data.groupby('customer_id').size().reset_index(name='review_count')\n",
    "product_review_counts_filtered = filtered_data.groupby('product_id').size().reset_index(name='review_count')\n",
    "\n",
    "customers_with_at_least_10_reviews = customer_review_counts_filtered[customer_review_counts_filtered['review_count'] >= 10]\n",
    "products_with_at_least_10_reviews = product_review_counts_filtered[product_review_counts_filtered['review_count'] >= 10]\n",
    "\n",
    "\n",
    "num_customers_with_at_least_10_reviews = len(customers_with_at_least_10_reviews)\n",
    "num_products_with_at_least_10_reviews = len(products_with_at_least_10_reviews)\n",
    "\n",
    "print(f\"Number of customers with at least 10 reviews: {num_customers_with_at_least_10_reviews}\")\n",
    "print(f\"Number of products with at least 10 reviews: {num_products_with_at_least_10_reviews}\")"
   ]
  },
  {
   "cell_type": "code",
   "execution_count": 23,
   "id": "28f8a119-9edd-4bde-9c82-38fef9148371",
   "metadata": {},
   "outputs": [
    {
     "name": "stdout",
     "output_type": "stream",
     "text": [
      "Available reviews: 4510\n",
      "Final number of reviews: 4510\n",
      "Final number of unique customers: 1210\n",
      "Final number of unique products: 1615\n"
     ]
    }
   ],
   "source": [
    "# Step 1: Filter customers with at least 10 reviews\n",
    "customer_review_counts = filtered_data.groupby('customer_id').size().reset_index(name='review_count')\n",
    "customers_with_at_least_10_reviews = customer_review_counts[customer_review_counts['review_count'] >= 10]['customer_id']\n",
    "\n",
    "# Step 2: Filter products with at least 10 reviews\n",
    "product_review_counts = filtered_data.groupby('product_id').size().reset_index(name='review_count')\n",
    "products_with_at_least_10_reviews = product_review_counts[product_review_counts['review_count'] >= 10]['product_id']\n",
    "\n",
    "# Step 3: Filter the dataset to include only reviews from these customers and products\n",
    "filtered_customers_products_data = filtered_data[\n",
    "    (filtered_data['customer_id'].isin(customers_with_at_least_10_reviews)) & \n",
    "    (filtered_data['product_id'].isin(products_with_at_least_10_reviews))\n",
    "]\n",
    "\n",
    "# Step 4: Select a subset of customers (e.g., 1500) and products (e.g., 2000)\n",
    "subset_customers = customers_with_at_least_10_reviews.sample(n=1500, random_state=42)\n",
    "subset_products = products_with_at_least_10_reviews.sample(n=2000, random_state=42)\n",
    "\n",
    "# Step 5: Filter the dataset to include only reviews from the selected customers and products\n",
    "subset_data = filtered_customers_products_data[\n",
    "    (filtered_customers_products_data['customer_id'].isin(subset_customers)) & \n",
    "    (filtered_customers_products_data['product_id'].isin(subset_products))\n",
    "]\n",
    "\n",
    "# Step 6: Check the number of available reviews before sampling\n",
    "available_reviews = len(subset_data)\n",
    "print(f\"Available reviews: {available_reviews}\")\n",
    "\n",
    "# If there are fewer than 10,000 reviews, sample only as many as are available\n",
    "if available_reviews < 10000:\n",
    "    final_sample = subset_data.sample(n=available_reviews, random_state=123)\n",
    "else:\n",
    "    final_sample = subset_data.sample(n=10000, random_state=123)\n",
    "\n",
    "# Step 7: Display the results\n",
    "final_num_reviews = len(final_sample)\n",
    "final_num_customers = final_sample['customer_id'].nunique()\n",
    "final_num_products = final_sample['product_id'].nunique()\n",
    "\n",
    "print(f\"Final number of reviews: {final_num_reviews}\")\n",
    "print(f\"Final number of unique customers: {final_num_customers}\")\n",
    "print(f\"Final number of unique products: {final_num_products}\")\n"
   ]
  },
  {
   "cell_type": "code",
   "execution_count": 24,
   "id": "76b0be87-bdab-4b57-911f-e0e884efc59a",
   "metadata": {},
   "outputs": [
    {
     "data": {
      "text/html": [
       "<div>\n",
       "<style scoped>\n",
       "    .dataframe tbody tr th:only-of-type {\n",
       "        vertical-align: middle;\n",
       "    }\n",
       "\n",
       "    .dataframe tbody tr th {\n",
       "        vertical-align: top;\n",
       "    }\n",
       "\n",
       "    .dataframe thead th {\n",
       "        text-align: right;\n",
       "    }\n",
       "</style>\n",
       "<table border=\"1\" class=\"dataframe\">\n",
       "  <thead>\n",
       "    <tr style=\"text-align: right;\">\n",
       "      <th></th>\n",
       "      <th>marketplace</th>\n",
       "      <th>customer_id</th>\n",
       "      <th>review_id</th>\n",
       "      <th>product_id</th>\n",
       "      <th>product_parent</th>\n",
       "      <th>product_title</th>\n",
       "      <th>product_category</th>\n",
       "      <th>star_rating</th>\n",
       "      <th>helpful_votes</th>\n",
       "      <th>total_votes</th>\n",
       "      <th>vine</th>\n",
       "      <th>verified_purchase</th>\n",
       "      <th>review_headline</th>\n",
       "      <th>review_body</th>\n",
       "      <th>review_date</th>\n",
       "    </tr>\n",
       "  </thead>\n",
       "  <tbody>\n",
       "    <tr>\n",
       "      <th>1484994</th>\n",
       "      <td>US</td>\n",
       "      <td>38484071</td>\n",
       "      <td>RWCTJ6DAIGZ7T</td>\n",
       "      <td>0061087122</td>\n",
       "      <td>683956970</td>\n",
       "      <td>Master of Seduction (Sea Wolves Series)</td>\n",
       "      <td>Books</td>\n",
       "      <td>4.0</td>\n",
       "      <td>7.0</td>\n",
       "      <td>10.0</td>\n",
       "      <td>N</td>\n",
       "      <td>N</td>\n",
       "      <td>Good book</td>\n",
       "      <td>I have only read two books by Kinley MacGregor...</td>\n",
       "      <td>2002-07-06</td>\n",
       "    </tr>\n",
       "    <tr>\n",
       "      <th>1271322</th>\n",
       "      <td>US</td>\n",
       "      <td>51165577</td>\n",
       "      <td>R1H1YNIAYYLSKF</td>\n",
       "      <td>0345422805</td>\n",
       "      <td>234414967</td>\n",
       "      <td>Team Rodent : How Disney Devours the World</td>\n",
       "      <td>Books</td>\n",
       "      <td>4.0</td>\n",
       "      <td>7.0</td>\n",
       "      <td>9.0</td>\n",
       "      <td>N</td>\n",
       "      <td>N</td>\n",
       "      <td>the shady side of Disney</td>\n",
       "      <td>I read this book several years ago and since t...</td>\n",
       "      <td>2003-01-11</td>\n",
       "    </tr>\n",
       "    <tr>\n",
       "      <th>1784914</th>\n",
       "      <td>US</td>\n",
       "      <td>40669813</td>\n",
       "      <td>R1BQAW6T2KKOI4</td>\n",
       "      <td>0679764410</td>\n",
       "      <td>864803147</td>\n",
       "      <td>American Sphinx: The Character of Thomas Jeffe...</td>\n",
       "      <td>Books</td>\n",
       "      <td>5.0</td>\n",
       "      <td>46.0</td>\n",
       "      <td>56.0</td>\n",
       "      <td>N</td>\n",
       "      <td>N</td>\n",
       "      <td>Sphinx?</td>\n",
       "      <td>Five star effort by Ellis for what he did. If ...</td>\n",
       "      <td>2001-11-04</td>\n",
       "    </tr>\n",
       "    <tr>\n",
       "      <th>2155611</th>\n",
       "      <td>US</td>\n",
       "      <td>50358298</td>\n",
       "      <td>RVKRFPUQGVE30</td>\n",
       "      <td>0679879250</td>\n",
       "      <td>872660777</td>\n",
       "      <td>The Subtle Knife (His Dark Materials, Book 2)</td>\n",
       "      <td>Books</td>\n",
       "      <td>5.0</td>\n",
       "      <td>2.0</td>\n",
       "      <td>2.0</td>\n",
       "      <td>N</td>\n",
       "      <td>N</td>\n",
       "      <td>Where there's Will, there's a way...</td>\n",
       "      <td>This book was a worthy successor to The Golden...</td>\n",
       "      <td>2001-01-02</td>\n",
       "    </tr>\n",
       "    <tr>\n",
       "      <th>503798</th>\n",
       "      <td>US</td>\n",
       "      <td>20997233</td>\n",
       "      <td>R3RW172U8DSP4O</td>\n",
       "      <td>0684840057</td>\n",
       "      <td>505830594</td>\n",
       "      <td>Radical Son: A Generational Odyssey</td>\n",
       "      <td>Books</td>\n",
       "      <td>5.0</td>\n",
       "      <td>19.0</td>\n",
       "      <td>23.0</td>\n",
       "      <td>N</td>\n",
       "      <td>N</td>\n",
       "      <td>Exceptionally Truthful Examination of a Tumult...</td>\n",
       "      <td>\\\\\"Radical Son\\\\\" is the well-written and brut...</td>\n",
       "      <td>2004-10-01</td>\n",
       "    </tr>\n",
       "  </tbody>\n",
       "</table>\n",
       "</div>"
      ],
      "text/plain": [
       "        marketplace  customer_id       review_id  product_id  product_parent  \\\n",
       "1484994          US     38484071   RWCTJ6DAIGZ7T  0061087122       683956970   \n",
       "1271322          US     51165577  R1H1YNIAYYLSKF  0345422805       234414967   \n",
       "1784914          US     40669813  R1BQAW6T2KKOI4  0679764410       864803147   \n",
       "2155611          US     50358298   RVKRFPUQGVE30  0679879250       872660777   \n",
       "503798           US     20997233  R3RW172U8DSP4O  0684840057       505830594   \n",
       "\n",
       "                                             product_title product_category  \\\n",
       "1484994            Master of Seduction (Sea Wolves Series)            Books   \n",
       "1271322         Team Rodent : How Disney Devours the World            Books   \n",
       "1784914  American Sphinx: The Character of Thomas Jeffe...            Books   \n",
       "2155611      The Subtle Knife (His Dark Materials, Book 2)            Books   \n",
       "503798                 Radical Son: A Generational Odyssey            Books   \n",
       "\n",
       "         star_rating  helpful_votes  total_votes vine verified_purchase  \\\n",
       "1484994          4.0            7.0         10.0    N                 N   \n",
       "1271322          4.0            7.0          9.0    N                 N   \n",
       "1784914          5.0           46.0         56.0    N                 N   \n",
       "2155611          5.0            2.0          2.0    N                 N   \n",
       "503798           5.0           19.0         23.0    N                 N   \n",
       "\n",
       "                                           review_headline  \\\n",
       "1484994                                          Good book   \n",
       "1271322                           the shady side of Disney   \n",
       "1784914                                            Sphinx?   \n",
       "2155611               Where there's Will, there's a way...   \n",
       "503798   Exceptionally Truthful Examination of a Tumult...   \n",
       "\n",
       "                                               review_body review_date  \n",
       "1484994  I have only read two books by Kinley MacGregor...  2002-07-06  \n",
       "1271322  I read this book several years ago and since t...  2003-01-11  \n",
       "1784914  Five star effort by Ellis for what he did. If ...  2001-11-04  \n",
       "2155611  This book was a worthy successor to The Golden...  2001-01-02  \n",
       "503798   \\\\\"Radical Son\\\\\" is the well-written and brut...  2004-10-01  "
      ]
     },
     "execution_count": 24,
     "metadata": {},
     "output_type": "execute_result"
    }
   ],
   "source": [
    "final_sample.head()"
   ]
  },
  {
   "cell_type": "code",
   "execution_count": 25,
   "id": "5020e520-76ae-4467-ab4a-48652ef512ba",
   "metadata": {},
   "outputs": [
    {
     "data": {
      "text/plain": [
       "marketplace             1\n",
       "customer_id          1210\n",
       "review_id            4510\n",
       "product_id           1615\n",
       "product_parent       1571\n",
       "product_title        1594\n",
       "product_category        1\n",
       "star_rating             5\n",
       "helpful_votes         170\n",
       "total_votes           187\n",
       "vine                    1\n",
       "verified_purchase       2\n",
       "review_headline      4323\n",
       "review_body          4465\n",
       "review_date          1965\n",
       "dtype: int64"
      ]
     },
     "execution_count": 25,
     "metadata": {},
     "output_type": "execute_result"
    }
   ],
   "source": [
    "final_sample.nunique()"
   ]
  },
  {
   "cell_type": "code",
   "execution_count": 26,
   "id": "d218c00a-8eb8-4cb8-a34e-81243d34ebfc",
   "metadata": {},
   "outputs": [
    {
     "name": "stdout",
     "output_type": "stream",
     "text": [
      "<class 'pandas.core.frame.DataFrame'>\n",
      "Index: 4510 entries, 1484994 to 2185734\n",
      "Data columns (total 15 columns):\n",
      " #   Column             Non-Null Count  Dtype  \n",
      "---  ------             --------------  -----  \n",
      " 0   marketplace        4510 non-null   object \n",
      " 1   customer_id        4510 non-null   int64  \n",
      " 2   review_id          4510 non-null   object \n",
      " 3   product_id         4510 non-null   object \n",
      " 4   product_parent     4510 non-null   int64  \n",
      " 5   product_title      4510 non-null   object \n",
      " 6   product_category   4510 non-null   object \n",
      " 7   star_rating        4510 non-null   float64\n",
      " 8   helpful_votes      4510 non-null   float64\n",
      " 9   total_votes        4510 non-null   float64\n",
      " 10  vine               4510 non-null   object \n",
      " 11  verified_purchase  4510 non-null   object \n",
      " 12  review_headline    4510 non-null   object \n",
      " 13  review_body        4510 non-null   object \n",
      " 14  review_date        4510 non-null   object \n",
      "dtypes: float64(3), int64(2), object(10)\n",
      "memory usage: 563.8+ KB\n"
     ]
    }
   ],
   "source": [
    "final_sample.info()"
   ]
  },
  {
   "cell_type": "code",
   "execution_count": 27,
   "id": "3a0fcf0a-4134-4e46-9eac-ae94bc023746",
   "metadata": {},
   "outputs": [],
   "source": [
    "final_sample.to_csv('amazon_reviews_subset.csv', index=False)"
   ]
  },
  {
   "cell_type": "markdown",
   "id": "961a5e36-f4fd-45b6-8c43-6740dc262019",
   "metadata": {},
   "source": [
    "\n",
    "<div class=\"alert alert-info\">\n",
    "    \n",
    "## Collaborative Filtering\n",
    "**Collaborative Filtering** is a widely-used technique for addressing the challenge of missing entries in a utility matrix, leveraging user behavior and interactions to make recommendations. This approach operates on the principle that users who have agreed in the past will continue to agree in the future, allowing the model to infer preferences based on the preferences of similar users.\n",
    "\n",
    "This method can be likened to advanced dimensionality reduction techniques such as Latent Semantic Analysis (LSA) or Truncated Singular Value Decomposition (SVD). By capturing the underlying relationships between users and items, collaborative filtering helps to predict missing values, enhancing the accuracy and relevance of recommendations.\n",
    "\n",
    "In this project, we will implement collaborative filtering as our baseline model to improve user experience by personalizing content based on historical data, thus enabling more informed decision-making.\n",
    "</div>"
   ]
  },
  {
   "cell_type": "code",
   "execution_count": 28,
   "id": "491d78cb-beef-48db-88bc-ddfb95474efd",
   "metadata": {},
   "outputs": [
    {
     "data": {
      "text/html": [
       "<div>\n",
       "<style scoped>\n",
       "    .dataframe tbody tr th:only-of-type {\n",
       "        vertical-align: middle;\n",
       "    }\n",
       "\n",
       "    .dataframe tbody tr th {\n",
       "        vertical-align: top;\n",
       "    }\n",
       "\n",
       "    .dataframe thead th {\n",
       "        text-align: right;\n",
       "    }\n",
       "</style>\n",
       "<table border=\"1\" class=\"dataframe\">\n",
       "  <thead>\n",
       "    <tr style=\"text-align: right;\">\n",
       "      <th></th>\n",
       "      <th>customer_id</th>\n",
       "      <th>product_id</th>\n",
       "      <th>star_rating</th>\n",
       "    </tr>\n",
       "  </thead>\n",
       "  <tbody>\n",
       "    <tr>\n",
       "      <th>0</th>\n",
       "      <td>38484071</td>\n",
       "      <td>0061087122</td>\n",
       "      <td>4.0</td>\n",
       "    </tr>\n",
       "    <tr>\n",
       "      <th>1</th>\n",
       "      <td>51165577</td>\n",
       "      <td>0345422805</td>\n",
       "      <td>4.0</td>\n",
       "    </tr>\n",
       "    <tr>\n",
       "      <th>2</th>\n",
       "      <td>40669813</td>\n",
       "      <td>0679764410</td>\n",
       "      <td>5.0</td>\n",
       "    </tr>\n",
       "    <tr>\n",
       "      <th>3</th>\n",
       "      <td>50358298</td>\n",
       "      <td>0679879250</td>\n",
       "      <td>5.0</td>\n",
       "    </tr>\n",
       "    <tr>\n",
       "      <th>4</th>\n",
       "      <td>20997233</td>\n",
       "      <td>0684840057</td>\n",
       "      <td>5.0</td>\n",
       "    </tr>\n",
       "  </tbody>\n",
       "</table>\n",
       "</div>"
      ],
      "text/plain": [
       "   customer_id  product_id  star_rating\n",
       "0     38484071  0061087122          4.0\n",
       "1     51165577  0345422805          4.0\n",
       "2     40669813  0679764410          5.0\n",
       "3     50358298  0679879250          5.0\n",
       "4     20997233  0684840057          5.0"
      ]
     },
     "execution_count": 28,
     "metadata": {},
     "output_type": "execute_result"
    }
   ],
   "source": [
    "coll_data = final_sample[['customer_id', 'product_id', 'star_rating']].reset_index(drop=True)\n",
    "coll_data.head()"
   ]
  },
  {
   "cell_type": "code",
   "execution_count": 33,
   "id": "3ca5bd28-648d-4812-923c-1b97f4b711fd",
   "metadata": {},
   "outputs": [
    {
     "name": "stdout",
     "output_type": "stream",
     "text": [
      "Average number of ratings per user : 3.727272727272727\n",
      "Average number of ratings per movie: 2.7925696594427243\n"
     ]
    }
   ],
   "source": [
    "avg_nratings_per_user = coll_data.groupby(user_key).size().mean()\n",
    "avg_nratings_per_movie = coll_data.groupby(item_key).size().mean()\n",
    "print(f\"Average number of ratings per user : {avg_nratings_per_user}\")\n",
    "print(f\"Average number of ratings per movie: {avg_nratings_per_movie}\")"
   ]
  },
  {
   "cell_type": "code",
   "execution_count": 36,
   "id": "e24b2cfc-a3ce-43ea-927c-750370cab260",
   "metadata": {},
   "outputs": [],
   "source": [
    "# Using surprise package\n",
    "reader = Reader()\n",
    "data = Dataset.load_from_df(coll_data, reader)  \n",
    "\n",
    "k = 10\n",
    "algo = SVD(n_factors=k, random_state=42)"
   ]
  },
  {
   "cell_type": "code",
   "execution_count": 37,
   "id": "869fb9dd-5ae1-4a3b-b638-f34bb774cf7e",
   "metadata": {},
   "outputs": [
    {
     "name": "stdout",
     "output_type": "stream",
     "text": [
      "Evaluating RMSE of algorithm SVD on 5 split(s).\n",
      "\n",
      "                  Fold 1  Fold 2  Fold 3  Fold 4  Fold 5  Mean    Std     \n",
      "RMSE (testset)    1.0332  1.0968  1.0999  1.0774  1.0690  1.0752  0.0240  \n",
      "Fit time          0.01    0.01    0.01    0.01    0.01    0.01    0.00    \n",
      "Test time         0.00    0.00    0.00    0.00    0.00    0.00    0.00    \n"
     ]
    },
    {
     "data": {
      "text/html": [
       "<div>\n",
       "<style scoped>\n",
       "    .dataframe tbody tr th:only-of-type {\n",
       "        vertical-align: middle;\n",
       "    }\n",
       "\n",
       "    .dataframe tbody tr th {\n",
       "        vertical-align: top;\n",
       "    }\n",
       "\n",
       "    .dataframe thead th {\n",
       "        text-align: right;\n",
       "    }\n",
       "</style>\n",
       "<table border=\"1\" class=\"dataframe\">\n",
       "  <thead>\n",
       "    <tr style=\"text-align: right;\">\n",
       "      <th></th>\n",
       "      <th>test_rmse</th>\n",
       "      <th>fit_time</th>\n",
       "      <th>test_time</th>\n",
       "    </tr>\n",
       "  </thead>\n",
       "  <tbody>\n",
       "    <tr>\n",
       "      <th>0</th>\n",
       "      <td>1.033194</td>\n",
       "      <td>0.013326</td>\n",
       "      <td>0.003266</td>\n",
       "    </tr>\n",
       "    <tr>\n",
       "      <th>1</th>\n",
       "      <td>1.096768</td>\n",
       "      <td>0.008017</td>\n",
       "      <td>0.003322</td>\n",
       "    </tr>\n",
       "    <tr>\n",
       "      <th>2</th>\n",
       "      <td>1.099856</td>\n",
       "      <td>0.007618</td>\n",
       "      <td>0.002244</td>\n",
       "    </tr>\n",
       "    <tr>\n",
       "      <th>3</th>\n",
       "      <td>1.077363</td>\n",
       "      <td>0.007056</td>\n",
       "      <td>0.001945</td>\n",
       "    </tr>\n",
       "    <tr>\n",
       "      <th>4</th>\n",
       "      <td>1.068997</td>\n",
       "      <td>0.006439</td>\n",
       "      <td>0.001804</td>\n",
       "    </tr>\n",
       "  </tbody>\n",
       "</table>\n",
       "</div>"
      ],
      "text/plain": [
       "   test_rmse  fit_time  test_time\n",
       "0   1.033194  0.013326   0.003266\n",
       "1   1.096768  0.008017   0.003322\n",
       "2   1.099856  0.007618   0.002244\n",
       "3   1.077363  0.007056   0.001945\n",
       "4   1.068997  0.006439   0.001804"
      ]
     },
     "execution_count": 37,
     "metadata": {},
     "output_type": "execute_result"
    }
   ],
   "source": [
    "pd.DataFrame(cross_validate(algo, data, measures=[\"RMSE\"], cv=5, verbose=True))"
   ]
  },
  {
   "cell_type": "code",
   "execution_count": null,
   "id": "5d7e183d-96e2-4009-a9a8-c22998c65f87",
   "metadata": {},
   "outputs": [],
   "source": []
  }
 ],
 "metadata": {
  "kernelspec": {
   "display_name": "Python [conda env:563]",
   "language": "python",
   "name": "conda-env-563-py"
  },
  "language_info": {
   "codemirror_mode": {
    "name": "ipython",
    "version": 3
   },
   "file_extension": ".py",
   "mimetype": "text/x-python",
   "name": "python",
   "nbconvert_exporter": "python",
   "pygments_lexer": "ipython3",
   "version": "3.11.7"
  }
 },
 "nbformat": 4,
 "nbformat_minor": 5
}
